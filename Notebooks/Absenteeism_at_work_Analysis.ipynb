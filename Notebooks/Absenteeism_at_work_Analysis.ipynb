{
  "nbformat": 4,
  "nbformat_minor": 0,
  "metadata": {
    "colab": {
      "name": "Absenteeism-at-work-Analysis.ipynb",
      "provenance": [],
      "collapsed_sections": [
        "eOHdsYUiaEB1",
        "6751CE5paIVR",
        "m7pS6TgMbx1A",
        "ZNRspsaaz9nW",
        "xUsBzjkI95Co",
        "K74erdqzIu5j",
        "wMufWA-7RfM6"
      ]
    },
    "kernelspec": {
      "name": "python3",
      "display_name": "Python 3"
    },
    "language_info": {
      "name": "python"
    }
  },
  "cells": [
    {
      "cell_type": "markdown",
      "source": [
        "# Contents:\n",
        "\n",
        "\n",
        "\n",
        "*   [About Data](https://archive.ics.uci.edu/ml/datasets/Absenteeism+at+work)\n",
        "\n",
        "*   [EDA](#eda)\n",
        "\n",
        "*   [Conclusion](#conc)\n",
        "\n",
        "\n"
      ],
      "metadata": {
        "id": "B-Bsi-ML9JwW"
      }
    },
    {
      "cell_type": "markdown",
      "source": [
        "# Libraries:"
      ],
      "metadata": {
        "id": "eOHdsYUiaEB1"
      }
    },
    {
      "cell_type": "code",
      "execution_count": 292,
      "metadata": {
        "id": "IQWpv5erZiRe"
      },
      "outputs": [],
      "source": [
        "import pandas as pd\n",
        "import numpy as np\n",
        "import matplotlib.pyplot as plt\n",
        "import seaborn as sns\n",
        "\n",
        "from scipy.stats import ttest_ind, ks_2samp, pearsonr, yeojohnson\n",
        "\n",
        "%matplotlib inline\n",
        "\n",
        "import warnings\n",
        "warnings.filterwarnings('ignore')"
      ]
    },
    {
      "cell_type": "markdown",
      "source": [
        "# Data:"
      ],
      "metadata": {
        "id": "6751CE5paIVR"
      }
    },
    {
      "cell_type": "code",
      "source": [
        "#!unzip \"/content/drive/MyDrive/Absenteeism_at_work_AAA.zip\" -d \"/content/drive/MyDrive/Absenteeism_at_work_AAA/\""
      ],
      "metadata": {
        "id": "JzheXt49aHLx"
      },
      "execution_count": 293,
      "outputs": []
    },
    {
      "cell_type": "code",
      "source": [
        "df = pd.read_csv(\"/content/drive/MyDrive/Absenteeism_at_work_AAA/Absenteeism_at_work.csv\", sep = ';')"
      ],
      "metadata": {
        "id": "cH5UWd0QabeB"
      },
      "execution_count": 294,
      "outputs": []
    },
    {
      "cell_type": "code",
      "source": [
        "df.head()"
      ],
      "metadata": {
        "colab": {
          "base_uri": "https://localhost:8080/",
          "height": 352
        },
        "id": "yVasznccapMC",
        "outputId": "d6fba368-b47b-48c6-aa2a-6dc4270df845"
      },
      "execution_count": 295,
      "outputs": [
        {
          "output_type": "execute_result",
          "data": {
            "text/plain": [
              "   ID  Reason for absence  Month of absence  Day of the week  Seasons  \\\n",
              "0  11                  26                 7                3        1   \n",
              "1  36                   0                 7                3        1   \n",
              "2   3                  23                 7                4        1   \n",
              "3   7                   7                 7                5        1   \n",
              "4  11                  23                 7                5        1   \n",
              "\n",
              "   Transportation expense  Distance from Residence to Work  Service time  Age  \\\n",
              "0                     289                               36            13   33   \n",
              "1                     118                               13            18   50   \n",
              "2                     179                               51            18   38   \n",
              "3                     279                                5            14   39   \n",
              "4                     289                               36            13   33   \n",
              "\n",
              "   Work load Average/day   ...  Disciplinary failure  Education  Son  \\\n",
              "0                 239.554  ...                     0          1    2   \n",
              "1                 239.554  ...                     1          1    1   \n",
              "2                 239.554  ...                     0          1    0   \n",
              "3                 239.554  ...                     0          1    2   \n",
              "4                 239.554  ...                     0          1    2   \n",
              "\n",
              "   Social drinker  Social smoker  Pet  Weight  Height  Body mass index  \\\n",
              "0               1              0    1      90     172               30   \n",
              "1               1              0    0      98     178               31   \n",
              "2               1              0    0      89     170               31   \n",
              "3               1              1    0      68     168               24   \n",
              "4               1              0    1      90     172               30   \n",
              "\n",
              "   Absenteeism time in hours  \n",
              "0                          4  \n",
              "1                          0  \n",
              "2                          2  \n",
              "3                          4  \n",
              "4                          2  \n",
              "\n",
              "[5 rows x 21 columns]"
            ],
            "text/html": [
              "\n",
              "  <div id=\"df-9bf7cceb-3528-4918-96e2-c23c132b5a94\">\n",
              "    <div class=\"colab-df-container\">\n",
              "      <div>\n",
              "<style scoped>\n",
              "    .dataframe tbody tr th:only-of-type {\n",
              "        vertical-align: middle;\n",
              "    }\n",
              "\n",
              "    .dataframe tbody tr th {\n",
              "        vertical-align: top;\n",
              "    }\n",
              "\n",
              "    .dataframe thead th {\n",
              "        text-align: right;\n",
              "    }\n",
              "</style>\n",
              "<table border=\"1\" class=\"dataframe\">\n",
              "  <thead>\n",
              "    <tr style=\"text-align: right;\">\n",
              "      <th></th>\n",
              "      <th>ID</th>\n",
              "      <th>Reason for absence</th>\n",
              "      <th>Month of absence</th>\n",
              "      <th>Day of the week</th>\n",
              "      <th>Seasons</th>\n",
              "      <th>Transportation expense</th>\n",
              "      <th>Distance from Residence to Work</th>\n",
              "      <th>Service time</th>\n",
              "      <th>Age</th>\n",
              "      <th>Work load Average/day</th>\n",
              "      <th>...</th>\n",
              "      <th>Disciplinary failure</th>\n",
              "      <th>Education</th>\n",
              "      <th>Son</th>\n",
              "      <th>Social drinker</th>\n",
              "      <th>Social smoker</th>\n",
              "      <th>Pet</th>\n",
              "      <th>Weight</th>\n",
              "      <th>Height</th>\n",
              "      <th>Body mass index</th>\n",
              "      <th>Absenteeism time in hours</th>\n",
              "    </tr>\n",
              "  </thead>\n",
              "  <tbody>\n",
              "    <tr>\n",
              "      <th>0</th>\n",
              "      <td>11</td>\n",
              "      <td>26</td>\n",
              "      <td>7</td>\n",
              "      <td>3</td>\n",
              "      <td>1</td>\n",
              "      <td>289</td>\n",
              "      <td>36</td>\n",
              "      <td>13</td>\n",
              "      <td>33</td>\n",
              "      <td>239.554</td>\n",
              "      <td>...</td>\n",
              "      <td>0</td>\n",
              "      <td>1</td>\n",
              "      <td>2</td>\n",
              "      <td>1</td>\n",
              "      <td>0</td>\n",
              "      <td>1</td>\n",
              "      <td>90</td>\n",
              "      <td>172</td>\n",
              "      <td>30</td>\n",
              "      <td>4</td>\n",
              "    </tr>\n",
              "    <tr>\n",
              "      <th>1</th>\n",
              "      <td>36</td>\n",
              "      <td>0</td>\n",
              "      <td>7</td>\n",
              "      <td>3</td>\n",
              "      <td>1</td>\n",
              "      <td>118</td>\n",
              "      <td>13</td>\n",
              "      <td>18</td>\n",
              "      <td>50</td>\n",
              "      <td>239.554</td>\n",
              "      <td>...</td>\n",
              "      <td>1</td>\n",
              "      <td>1</td>\n",
              "      <td>1</td>\n",
              "      <td>1</td>\n",
              "      <td>0</td>\n",
              "      <td>0</td>\n",
              "      <td>98</td>\n",
              "      <td>178</td>\n",
              "      <td>31</td>\n",
              "      <td>0</td>\n",
              "    </tr>\n",
              "    <tr>\n",
              "      <th>2</th>\n",
              "      <td>3</td>\n",
              "      <td>23</td>\n",
              "      <td>7</td>\n",
              "      <td>4</td>\n",
              "      <td>1</td>\n",
              "      <td>179</td>\n",
              "      <td>51</td>\n",
              "      <td>18</td>\n",
              "      <td>38</td>\n",
              "      <td>239.554</td>\n",
              "      <td>...</td>\n",
              "      <td>0</td>\n",
              "      <td>1</td>\n",
              "      <td>0</td>\n",
              "      <td>1</td>\n",
              "      <td>0</td>\n",
              "      <td>0</td>\n",
              "      <td>89</td>\n",
              "      <td>170</td>\n",
              "      <td>31</td>\n",
              "      <td>2</td>\n",
              "    </tr>\n",
              "    <tr>\n",
              "      <th>3</th>\n",
              "      <td>7</td>\n",
              "      <td>7</td>\n",
              "      <td>7</td>\n",
              "      <td>5</td>\n",
              "      <td>1</td>\n",
              "      <td>279</td>\n",
              "      <td>5</td>\n",
              "      <td>14</td>\n",
              "      <td>39</td>\n",
              "      <td>239.554</td>\n",
              "      <td>...</td>\n",
              "      <td>0</td>\n",
              "      <td>1</td>\n",
              "      <td>2</td>\n",
              "      <td>1</td>\n",
              "      <td>1</td>\n",
              "      <td>0</td>\n",
              "      <td>68</td>\n",
              "      <td>168</td>\n",
              "      <td>24</td>\n",
              "      <td>4</td>\n",
              "    </tr>\n",
              "    <tr>\n",
              "      <th>4</th>\n",
              "      <td>11</td>\n",
              "      <td>23</td>\n",
              "      <td>7</td>\n",
              "      <td>5</td>\n",
              "      <td>1</td>\n",
              "      <td>289</td>\n",
              "      <td>36</td>\n",
              "      <td>13</td>\n",
              "      <td>33</td>\n",
              "      <td>239.554</td>\n",
              "      <td>...</td>\n",
              "      <td>0</td>\n",
              "      <td>1</td>\n",
              "      <td>2</td>\n",
              "      <td>1</td>\n",
              "      <td>0</td>\n",
              "      <td>1</td>\n",
              "      <td>90</td>\n",
              "      <td>172</td>\n",
              "      <td>30</td>\n",
              "      <td>2</td>\n",
              "    </tr>\n",
              "  </tbody>\n",
              "</table>\n",
              "<p>5 rows × 21 columns</p>\n",
              "</div>\n",
              "      <button class=\"colab-df-convert\" onclick=\"convertToInteractive('df-9bf7cceb-3528-4918-96e2-c23c132b5a94')\"\n",
              "              title=\"Convert this dataframe to an interactive table.\"\n",
              "              style=\"display:none;\">\n",
              "        \n",
              "  <svg xmlns=\"http://www.w3.org/2000/svg\" height=\"24px\"viewBox=\"0 0 24 24\"\n",
              "       width=\"24px\">\n",
              "    <path d=\"M0 0h24v24H0V0z\" fill=\"none\"/>\n",
              "    <path d=\"M18.56 5.44l.94 2.06.94-2.06 2.06-.94-2.06-.94-.94-2.06-.94 2.06-2.06.94zm-11 1L8.5 8.5l.94-2.06 2.06-.94-2.06-.94L8.5 2.5l-.94 2.06-2.06.94zm10 10l.94 2.06.94-2.06 2.06-.94-2.06-.94-.94-2.06-.94 2.06-2.06.94z\"/><path d=\"M17.41 7.96l-1.37-1.37c-.4-.4-.92-.59-1.43-.59-.52 0-1.04.2-1.43.59L10.3 9.45l-7.72 7.72c-.78.78-.78 2.05 0 2.83L4 21.41c.39.39.9.59 1.41.59.51 0 1.02-.2 1.41-.59l7.78-7.78 2.81-2.81c.8-.78.8-2.07 0-2.86zM5.41 20L4 18.59l7.72-7.72 1.47 1.35L5.41 20z\"/>\n",
              "  </svg>\n",
              "      </button>\n",
              "      \n",
              "  <style>\n",
              "    .colab-df-container {\n",
              "      display:flex;\n",
              "      flex-wrap:wrap;\n",
              "      gap: 12px;\n",
              "    }\n",
              "\n",
              "    .colab-df-convert {\n",
              "      background-color: #E8F0FE;\n",
              "      border: none;\n",
              "      border-radius: 50%;\n",
              "      cursor: pointer;\n",
              "      display: none;\n",
              "      fill: #1967D2;\n",
              "      height: 32px;\n",
              "      padding: 0 0 0 0;\n",
              "      width: 32px;\n",
              "    }\n",
              "\n",
              "    .colab-df-convert:hover {\n",
              "      background-color: #E2EBFA;\n",
              "      box-shadow: 0px 1px 2px rgba(60, 64, 67, 0.3), 0px 1px 3px 1px rgba(60, 64, 67, 0.15);\n",
              "      fill: #174EA6;\n",
              "    }\n",
              "\n",
              "    [theme=dark] .colab-df-convert {\n",
              "      background-color: #3B4455;\n",
              "      fill: #D2E3FC;\n",
              "    }\n",
              "\n",
              "    [theme=dark] .colab-df-convert:hover {\n",
              "      background-color: #434B5C;\n",
              "      box-shadow: 0px 1px 3px 1px rgba(0, 0, 0, 0.15);\n",
              "      filter: drop-shadow(0px 1px 2px rgba(0, 0, 0, 0.3));\n",
              "      fill: #FFFFFF;\n",
              "    }\n",
              "  </style>\n",
              "\n",
              "      <script>\n",
              "        const buttonEl =\n",
              "          document.querySelector('#df-9bf7cceb-3528-4918-96e2-c23c132b5a94 button.colab-df-convert');\n",
              "        buttonEl.style.display =\n",
              "          google.colab.kernel.accessAllowed ? 'block' : 'none';\n",
              "\n",
              "        async function convertToInteractive(key) {\n",
              "          const element = document.querySelector('#df-9bf7cceb-3528-4918-96e2-c23c132b5a94');\n",
              "          const dataTable =\n",
              "            await google.colab.kernel.invokeFunction('convertToInteractive',\n",
              "                                                     [key], {});\n",
              "          if (!dataTable) return;\n",
              "\n",
              "          const docLinkHtml = 'Like what you see? Visit the ' +\n",
              "            '<a target=\"_blank\" href=https://colab.research.google.com/notebooks/data_table.ipynb>data table notebook</a>'\n",
              "            + ' to learn more about interactive tables.';\n",
              "          element.innerHTML = '';\n",
              "          dataTable['output_type'] = 'display_data';\n",
              "          await google.colab.output.renderOutput(dataTable, element);\n",
              "          const docLink = document.createElement('div');\n",
              "          docLink.innerHTML = docLinkHtml;\n",
              "          element.appendChild(docLink);\n",
              "        }\n",
              "      </script>\n",
              "    </div>\n",
              "  </div>\n",
              "  "
            ]
          },
          "metadata": {},
          "execution_count": 295
        }
      ]
    },
    {
      "cell_type": "code",
      "source": [
        "df.columns"
      ],
      "metadata": {
        "colab": {
          "base_uri": "https://localhost:8080/"
        },
        "id": "9abzOBB6arYP",
        "outputId": "7aeeab44-b978-4e5f-a389-b1cc4b6edcb7"
      },
      "execution_count": 296,
      "outputs": [
        {
          "output_type": "execute_result",
          "data": {
            "text/plain": [
              "Index(['ID', 'Reason for absence', 'Month of absence', 'Day of the week',\n",
              "       'Seasons', 'Transportation expense', 'Distance from Residence to Work',\n",
              "       'Service time', 'Age', 'Work load Average/day ', 'Hit target',\n",
              "       'Disciplinary failure', 'Education', 'Son', 'Social drinker',\n",
              "       'Social smoker', 'Pet', 'Weight', 'Height', 'Body mass index',\n",
              "       'Absenteeism time in hours'],\n",
              "      dtype='object')"
            ]
          },
          "metadata": {},
          "execution_count": 296
        }
      ]
    },
    {
      "cell_type": "code",
      "source": [
        "df.info()"
      ],
      "metadata": {
        "id": "qISXolmUeFE0",
        "colab": {
          "base_uri": "https://localhost:8080/"
        },
        "outputId": "6d5b3511-8c44-49b7-d442-1bd1ff0312de"
      },
      "execution_count": 297,
      "outputs": [
        {
          "output_type": "stream",
          "name": "stdout",
          "text": [
            "<class 'pandas.core.frame.DataFrame'>\n",
            "RangeIndex: 740 entries, 0 to 739\n",
            "Data columns (total 21 columns):\n",
            " #   Column                           Non-Null Count  Dtype  \n",
            "---  ------                           --------------  -----  \n",
            " 0   ID                               740 non-null    int64  \n",
            " 1   Reason for absence               740 non-null    int64  \n",
            " 2   Month of absence                 740 non-null    int64  \n",
            " 3   Day of the week                  740 non-null    int64  \n",
            " 4   Seasons                          740 non-null    int64  \n",
            " 5   Transportation expense           740 non-null    int64  \n",
            " 6   Distance from Residence to Work  740 non-null    int64  \n",
            " 7   Service time                     740 non-null    int64  \n",
            " 8   Age                              740 non-null    int64  \n",
            " 9   Work load Average/day            740 non-null    float64\n",
            " 10  Hit target                       740 non-null    int64  \n",
            " 11  Disciplinary failure             740 non-null    int64  \n",
            " 12  Education                        740 non-null    int64  \n",
            " 13  Son                              740 non-null    int64  \n",
            " 14  Social drinker                   740 non-null    int64  \n",
            " 15  Social smoker                    740 non-null    int64  \n",
            " 16  Pet                              740 non-null    int64  \n",
            " 17  Weight                           740 non-null    int64  \n",
            " 18  Height                           740 non-null    int64  \n",
            " 19  Body mass index                  740 non-null    int64  \n",
            " 20  Absenteeism time in hours        740 non-null    int64  \n",
            "dtypes: float64(1), int64(20)\n",
            "memory usage: 121.5 KB\n"
          ]
        }
      ]
    },
    {
      "cell_type": "code",
      "source": [
        "df.isna().sum()"
      ],
      "metadata": {
        "colab": {
          "base_uri": "https://localhost:8080/"
        },
        "id": "NNuA20YuJMqJ",
        "outputId": "d27c8560-3778-4a6a-f5dc-1fd81991689d"
      },
      "execution_count": 298,
      "outputs": [
        {
          "output_type": "execute_result",
          "data": {
            "text/plain": [
              "ID                                 0\n",
              "Reason for absence                 0\n",
              "Month of absence                   0\n",
              "Day of the week                    0\n",
              "Seasons                            0\n",
              "Transportation expense             0\n",
              "Distance from Residence to Work    0\n",
              "Service time                       0\n",
              "Age                                0\n",
              "Work load Average/day              0\n",
              "Hit target                         0\n",
              "Disciplinary failure               0\n",
              "Education                          0\n",
              "Son                                0\n",
              "Social drinker                     0\n",
              "Social smoker                      0\n",
              "Pet                                0\n",
              "Weight                             0\n",
              "Height                             0\n",
              "Body mass index                    0\n",
              "Absenteeism time in hours          0\n",
              "dtype: int64"
            ]
          },
          "metadata": {},
          "execution_count": 298
        }
      ]
    },
    {
      "cell_type": "code",
      "source": [
        "df.describe().T"
      ],
      "metadata": {
        "colab": {
          "base_uri": "https://localhost:8080/",
          "height": 708
        },
        "id": "rdtmf5-YLJhY",
        "outputId": "78abb8ad-16fd-4b00-a04b-93d1a86acbe1"
      },
      "execution_count": 299,
      "outputs": [
        {
          "output_type": "execute_result",
          "data": {
            "text/plain": [
              "                                 count        mean        std      min  \\\n",
              "ID                               740.0   18.017568  11.021247    1.000   \n",
              "Reason for absence               740.0   19.216216   8.433406    0.000   \n",
              "Month of absence                 740.0    6.324324   3.436287    0.000   \n",
              "Day of the week                  740.0    3.914865   1.421675    2.000   \n",
              "Seasons                          740.0    2.544595   1.111831    1.000   \n",
              "Transportation expense           740.0  221.329730  66.952223  118.000   \n",
              "Distance from Residence to Work  740.0   29.631081  14.836788    5.000   \n",
              "Service time                     740.0   12.554054   4.384873    1.000   \n",
              "Age                              740.0   36.450000   6.478772   27.000   \n",
              "Work load Average/day            740.0  271.490235  39.058116  205.917   \n",
              "Hit target                       740.0   94.587838   3.779313   81.000   \n",
              "Disciplinary failure             740.0    0.054054   0.226277    0.000   \n",
              "Education                        740.0    1.291892   0.673238    1.000   \n",
              "Son                              740.0    1.018919   1.098489    0.000   \n",
              "Social drinker                   740.0    0.567568   0.495749    0.000   \n",
              "Social smoker                    740.0    0.072973   0.260268    0.000   \n",
              "Pet                              740.0    0.745946   1.318258    0.000   \n",
              "Weight                           740.0   79.035135  12.883211   56.000   \n",
              "Height                           740.0  172.114865   6.034995  163.000   \n",
              "Body mass index                  740.0   26.677027   4.285452   19.000   \n",
              "Absenteeism time in hours        740.0    6.924324  13.330998    0.000   \n",
              "\n",
              "                                     25%      50%      75%      max  \n",
              "ID                                 9.000   18.000   28.000   36.000  \n",
              "Reason for absence                13.000   23.000   26.000   28.000  \n",
              "Month of absence                   3.000    6.000    9.000   12.000  \n",
              "Day of the week                    3.000    4.000    5.000    6.000  \n",
              "Seasons                            2.000    3.000    4.000    4.000  \n",
              "Transportation expense           179.000  225.000  260.000  388.000  \n",
              "Distance from Residence to Work   16.000   26.000   50.000   52.000  \n",
              "Service time                       9.000   13.000   16.000   29.000  \n",
              "Age                               31.000   37.000   40.000   58.000  \n",
              "Work load Average/day            244.387  264.249  294.217  378.884  \n",
              "Hit target                        93.000   95.000   97.000  100.000  \n",
              "Disciplinary failure               0.000    0.000    0.000    1.000  \n",
              "Education                          1.000    1.000    1.000    4.000  \n",
              "Son                                0.000    1.000    2.000    4.000  \n",
              "Social drinker                     0.000    1.000    1.000    1.000  \n",
              "Social smoker                      0.000    0.000    0.000    1.000  \n",
              "Pet                                0.000    0.000    1.000    8.000  \n",
              "Weight                            69.000   83.000   89.000  108.000  \n",
              "Height                           169.000  170.000  172.000  196.000  \n",
              "Body mass index                   24.000   25.000   31.000   38.000  \n",
              "Absenteeism time in hours          2.000    3.000    8.000  120.000  "
            ],
            "text/html": [
              "\n",
              "  <div id=\"df-8dd658d6-6b76-4e9e-8554-15f583b07065\">\n",
              "    <div class=\"colab-df-container\">\n",
              "      <div>\n",
              "<style scoped>\n",
              "    .dataframe tbody tr th:only-of-type {\n",
              "        vertical-align: middle;\n",
              "    }\n",
              "\n",
              "    .dataframe tbody tr th {\n",
              "        vertical-align: top;\n",
              "    }\n",
              "\n",
              "    .dataframe thead th {\n",
              "        text-align: right;\n",
              "    }\n",
              "</style>\n",
              "<table border=\"1\" class=\"dataframe\">\n",
              "  <thead>\n",
              "    <tr style=\"text-align: right;\">\n",
              "      <th></th>\n",
              "      <th>count</th>\n",
              "      <th>mean</th>\n",
              "      <th>std</th>\n",
              "      <th>min</th>\n",
              "      <th>25%</th>\n",
              "      <th>50%</th>\n",
              "      <th>75%</th>\n",
              "      <th>max</th>\n",
              "    </tr>\n",
              "  </thead>\n",
              "  <tbody>\n",
              "    <tr>\n",
              "      <th>ID</th>\n",
              "      <td>740.0</td>\n",
              "      <td>18.017568</td>\n",
              "      <td>11.021247</td>\n",
              "      <td>1.000</td>\n",
              "      <td>9.000</td>\n",
              "      <td>18.000</td>\n",
              "      <td>28.000</td>\n",
              "      <td>36.000</td>\n",
              "    </tr>\n",
              "    <tr>\n",
              "      <th>Reason for absence</th>\n",
              "      <td>740.0</td>\n",
              "      <td>19.216216</td>\n",
              "      <td>8.433406</td>\n",
              "      <td>0.000</td>\n",
              "      <td>13.000</td>\n",
              "      <td>23.000</td>\n",
              "      <td>26.000</td>\n",
              "      <td>28.000</td>\n",
              "    </tr>\n",
              "    <tr>\n",
              "      <th>Month of absence</th>\n",
              "      <td>740.0</td>\n",
              "      <td>6.324324</td>\n",
              "      <td>3.436287</td>\n",
              "      <td>0.000</td>\n",
              "      <td>3.000</td>\n",
              "      <td>6.000</td>\n",
              "      <td>9.000</td>\n",
              "      <td>12.000</td>\n",
              "    </tr>\n",
              "    <tr>\n",
              "      <th>Day of the week</th>\n",
              "      <td>740.0</td>\n",
              "      <td>3.914865</td>\n",
              "      <td>1.421675</td>\n",
              "      <td>2.000</td>\n",
              "      <td>3.000</td>\n",
              "      <td>4.000</td>\n",
              "      <td>5.000</td>\n",
              "      <td>6.000</td>\n",
              "    </tr>\n",
              "    <tr>\n",
              "      <th>Seasons</th>\n",
              "      <td>740.0</td>\n",
              "      <td>2.544595</td>\n",
              "      <td>1.111831</td>\n",
              "      <td>1.000</td>\n",
              "      <td>2.000</td>\n",
              "      <td>3.000</td>\n",
              "      <td>4.000</td>\n",
              "      <td>4.000</td>\n",
              "    </tr>\n",
              "    <tr>\n",
              "      <th>Transportation expense</th>\n",
              "      <td>740.0</td>\n",
              "      <td>221.329730</td>\n",
              "      <td>66.952223</td>\n",
              "      <td>118.000</td>\n",
              "      <td>179.000</td>\n",
              "      <td>225.000</td>\n",
              "      <td>260.000</td>\n",
              "      <td>388.000</td>\n",
              "    </tr>\n",
              "    <tr>\n",
              "      <th>Distance from Residence to Work</th>\n",
              "      <td>740.0</td>\n",
              "      <td>29.631081</td>\n",
              "      <td>14.836788</td>\n",
              "      <td>5.000</td>\n",
              "      <td>16.000</td>\n",
              "      <td>26.000</td>\n",
              "      <td>50.000</td>\n",
              "      <td>52.000</td>\n",
              "    </tr>\n",
              "    <tr>\n",
              "      <th>Service time</th>\n",
              "      <td>740.0</td>\n",
              "      <td>12.554054</td>\n",
              "      <td>4.384873</td>\n",
              "      <td>1.000</td>\n",
              "      <td>9.000</td>\n",
              "      <td>13.000</td>\n",
              "      <td>16.000</td>\n",
              "      <td>29.000</td>\n",
              "    </tr>\n",
              "    <tr>\n",
              "      <th>Age</th>\n",
              "      <td>740.0</td>\n",
              "      <td>36.450000</td>\n",
              "      <td>6.478772</td>\n",
              "      <td>27.000</td>\n",
              "      <td>31.000</td>\n",
              "      <td>37.000</td>\n",
              "      <td>40.000</td>\n",
              "      <td>58.000</td>\n",
              "    </tr>\n",
              "    <tr>\n",
              "      <th>Work load Average/day</th>\n",
              "      <td>740.0</td>\n",
              "      <td>271.490235</td>\n",
              "      <td>39.058116</td>\n",
              "      <td>205.917</td>\n",
              "      <td>244.387</td>\n",
              "      <td>264.249</td>\n",
              "      <td>294.217</td>\n",
              "      <td>378.884</td>\n",
              "    </tr>\n",
              "    <tr>\n",
              "      <th>Hit target</th>\n",
              "      <td>740.0</td>\n",
              "      <td>94.587838</td>\n",
              "      <td>3.779313</td>\n",
              "      <td>81.000</td>\n",
              "      <td>93.000</td>\n",
              "      <td>95.000</td>\n",
              "      <td>97.000</td>\n",
              "      <td>100.000</td>\n",
              "    </tr>\n",
              "    <tr>\n",
              "      <th>Disciplinary failure</th>\n",
              "      <td>740.0</td>\n",
              "      <td>0.054054</td>\n",
              "      <td>0.226277</td>\n",
              "      <td>0.000</td>\n",
              "      <td>0.000</td>\n",
              "      <td>0.000</td>\n",
              "      <td>0.000</td>\n",
              "      <td>1.000</td>\n",
              "    </tr>\n",
              "    <tr>\n",
              "      <th>Education</th>\n",
              "      <td>740.0</td>\n",
              "      <td>1.291892</td>\n",
              "      <td>0.673238</td>\n",
              "      <td>1.000</td>\n",
              "      <td>1.000</td>\n",
              "      <td>1.000</td>\n",
              "      <td>1.000</td>\n",
              "      <td>4.000</td>\n",
              "    </tr>\n",
              "    <tr>\n",
              "      <th>Son</th>\n",
              "      <td>740.0</td>\n",
              "      <td>1.018919</td>\n",
              "      <td>1.098489</td>\n",
              "      <td>0.000</td>\n",
              "      <td>0.000</td>\n",
              "      <td>1.000</td>\n",
              "      <td>2.000</td>\n",
              "      <td>4.000</td>\n",
              "    </tr>\n",
              "    <tr>\n",
              "      <th>Social drinker</th>\n",
              "      <td>740.0</td>\n",
              "      <td>0.567568</td>\n",
              "      <td>0.495749</td>\n",
              "      <td>0.000</td>\n",
              "      <td>0.000</td>\n",
              "      <td>1.000</td>\n",
              "      <td>1.000</td>\n",
              "      <td>1.000</td>\n",
              "    </tr>\n",
              "    <tr>\n",
              "      <th>Social smoker</th>\n",
              "      <td>740.0</td>\n",
              "      <td>0.072973</td>\n",
              "      <td>0.260268</td>\n",
              "      <td>0.000</td>\n",
              "      <td>0.000</td>\n",
              "      <td>0.000</td>\n",
              "      <td>0.000</td>\n",
              "      <td>1.000</td>\n",
              "    </tr>\n",
              "    <tr>\n",
              "      <th>Pet</th>\n",
              "      <td>740.0</td>\n",
              "      <td>0.745946</td>\n",
              "      <td>1.318258</td>\n",
              "      <td>0.000</td>\n",
              "      <td>0.000</td>\n",
              "      <td>0.000</td>\n",
              "      <td>1.000</td>\n",
              "      <td>8.000</td>\n",
              "    </tr>\n",
              "    <tr>\n",
              "      <th>Weight</th>\n",
              "      <td>740.0</td>\n",
              "      <td>79.035135</td>\n",
              "      <td>12.883211</td>\n",
              "      <td>56.000</td>\n",
              "      <td>69.000</td>\n",
              "      <td>83.000</td>\n",
              "      <td>89.000</td>\n",
              "      <td>108.000</td>\n",
              "    </tr>\n",
              "    <tr>\n",
              "      <th>Height</th>\n",
              "      <td>740.0</td>\n",
              "      <td>172.114865</td>\n",
              "      <td>6.034995</td>\n",
              "      <td>163.000</td>\n",
              "      <td>169.000</td>\n",
              "      <td>170.000</td>\n",
              "      <td>172.000</td>\n",
              "      <td>196.000</td>\n",
              "    </tr>\n",
              "    <tr>\n",
              "      <th>Body mass index</th>\n",
              "      <td>740.0</td>\n",
              "      <td>26.677027</td>\n",
              "      <td>4.285452</td>\n",
              "      <td>19.000</td>\n",
              "      <td>24.000</td>\n",
              "      <td>25.000</td>\n",
              "      <td>31.000</td>\n",
              "      <td>38.000</td>\n",
              "    </tr>\n",
              "    <tr>\n",
              "      <th>Absenteeism time in hours</th>\n",
              "      <td>740.0</td>\n",
              "      <td>6.924324</td>\n",
              "      <td>13.330998</td>\n",
              "      <td>0.000</td>\n",
              "      <td>2.000</td>\n",
              "      <td>3.000</td>\n",
              "      <td>8.000</td>\n",
              "      <td>120.000</td>\n",
              "    </tr>\n",
              "  </tbody>\n",
              "</table>\n",
              "</div>\n",
              "      <button class=\"colab-df-convert\" onclick=\"convertToInteractive('df-8dd658d6-6b76-4e9e-8554-15f583b07065')\"\n",
              "              title=\"Convert this dataframe to an interactive table.\"\n",
              "              style=\"display:none;\">\n",
              "        \n",
              "  <svg xmlns=\"http://www.w3.org/2000/svg\" height=\"24px\"viewBox=\"0 0 24 24\"\n",
              "       width=\"24px\">\n",
              "    <path d=\"M0 0h24v24H0V0z\" fill=\"none\"/>\n",
              "    <path d=\"M18.56 5.44l.94 2.06.94-2.06 2.06-.94-2.06-.94-.94-2.06-.94 2.06-2.06.94zm-11 1L8.5 8.5l.94-2.06 2.06-.94-2.06-.94L8.5 2.5l-.94 2.06-2.06.94zm10 10l.94 2.06.94-2.06 2.06-.94-2.06-.94-.94-2.06-.94 2.06-2.06.94z\"/><path d=\"M17.41 7.96l-1.37-1.37c-.4-.4-.92-.59-1.43-.59-.52 0-1.04.2-1.43.59L10.3 9.45l-7.72 7.72c-.78.78-.78 2.05 0 2.83L4 21.41c.39.39.9.59 1.41.59.51 0 1.02-.2 1.41-.59l7.78-7.78 2.81-2.81c.8-.78.8-2.07 0-2.86zM5.41 20L4 18.59l7.72-7.72 1.47 1.35L5.41 20z\"/>\n",
              "  </svg>\n",
              "      </button>\n",
              "      \n",
              "  <style>\n",
              "    .colab-df-container {\n",
              "      display:flex;\n",
              "      flex-wrap:wrap;\n",
              "      gap: 12px;\n",
              "    }\n",
              "\n",
              "    .colab-df-convert {\n",
              "      background-color: #E8F0FE;\n",
              "      border: none;\n",
              "      border-radius: 50%;\n",
              "      cursor: pointer;\n",
              "      display: none;\n",
              "      fill: #1967D2;\n",
              "      height: 32px;\n",
              "      padding: 0 0 0 0;\n",
              "      width: 32px;\n",
              "    }\n",
              "\n",
              "    .colab-df-convert:hover {\n",
              "      background-color: #E2EBFA;\n",
              "      box-shadow: 0px 1px 2px rgba(60, 64, 67, 0.3), 0px 1px 3px 1px rgba(60, 64, 67, 0.15);\n",
              "      fill: #174EA6;\n",
              "    }\n",
              "\n",
              "    [theme=dark] .colab-df-convert {\n",
              "      background-color: #3B4455;\n",
              "      fill: #D2E3FC;\n",
              "    }\n",
              "\n",
              "    [theme=dark] .colab-df-convert:hover {\n",
              "      background-color: #434B5C;\n",
              "      box-shadow: 0px 1px 3px 1px rgba(0, 0, 0, 0.15);\n",
              "      filter: drop-shadow(0px 1px 2px rgba(0, 0, 0, 0.3));\n",
              "      fill: #FFFFFF;\n",
              "    }\n",
              "  </style>\n",
              "\n",
              "      <script>\n",
              "        const buttonEl =\n",
              "          document.querySelector('#df-8dd658d6-6b76-4e9e-8554-15f583b07065 button.colab-df-convert');\n",
              "        buttonEl.style.display =\n",
              "          google.colab.kernel.accessAllowed ? 'block' : 'none';\n",
              "\n",
              "        async function convertToInteractive(key) {\n",
              "          const element = document.querySelector('#df-8dd658d6-6b76-4e9e-8554-15f583b07065');\n",
              "          const dataTable =\n",
              "            await google.colab.kernel.invokeFunction('convertToInteractive',\n",
              "                                                     [key], {});\n",
              "          if (!dataTable) return;\n",
              "\n",
              "          const docLinkHtml = 'Like what you see? Visit the ' +\n",
              "            '<a target=\"_blank\" href=https://colab.research.google.com/notebooks/data_table.ipynb>data table notebook</a>'\n",
              "            + ' to learn more about interactive tables.';\n",
              "          element.innerHTML = '';\n",
              "          dataTable['output_type'] = 'display_data';\n",
              "          await google.colab.output.renderOutput(dataTable, element);\n",
              "          const docLink = document.createElement('div');\n",
              "          docLink.innerHTML = docLinkHtml;\n",
              "          element.appendChild(docLink);\n",
              "        }\n",
              "      </script>\n",
              "    </div>\n",
              "  </div>\n",
              "  "
            ]
          },
          "metadata": {},
          "execution_count": 299
        }
      ]
    },
    {
      "cell_type": "markdown",
      "source": [
        "<a id='eda'></a>\n",
        "# Data Preprocessing and EDA:\n"
      ],
      "metadata": {
        "id": "Lgk8_wVdLW5m"
      }
    },
    {
      "cell_type": "markdown",
      "source": [
        "* Re-encode some categorical features like: Month of absence, Day of week etc for better working with data."
      ],
      "metadata": {
        "id": "HefEHFfA-YLA"
      }
    },
    {
      "cell_type": "code",
      "source": [
        "df['Education'].unique()"
      ],
      "metadata": {
        "colab": {
          "base_uri": "https://localhost:8080/"
        },
        "id": "B6-kg7CJMtwJ",
        "outputId": "a55e21d3-5eee-4ee1-fdd1-b2ab50f551a3"
      },
      "execution_count": 300,
      "outputs": [
        {
          "output_type": "execute_result",
          "data": {
            "text/plain": [
              "array([1, 3, 2, 4])"
            ]
          },
          "metadata": {},
          "execution_count": 300
        }
      ]
    },
    {
      "cell_type": "code",
      "source": [
        "# make copy of data\n",
        "df_c = df.copy()"
      ],
      "metadata": {
        "id": "mURiaJvHMzP_"
      },
      "execution_count": 301,
      "outputs": []
    },
    {
      "cell_type": "code",
      "source": [
        "# month\n",
        "month_mapping = {0: 'Unknown', 1: 'January', 2: 'February', 3: 'March', 4: 'April', 5: 'May',\n",
        "                 6: 'June', 7: 'July', 8: 'August', 9: 'September', 10: 'October', 11: 'November', 12: 'December'}\n",
        "# Day of week\n",
        "day_mapping = {2: 'Monday', 3: 'Tuesday', 4: 'Wednesday', 5: 'Thursday', 6: 'Friday'}\n",
        "\n",
        "# seasons\n",
        "season_mapping = {1: 'Summer', 2: 'Autumn', 3: 'Winter', 4: 'Spring'}\n",
        "\n",
        "# education\n",
        "education_mapping = {1: 'High School', 2: 'Graduate', 3: 'Post-Graduate', 4: 'Master_PHD'}\n",
        "\n",
        "# yes/No\n",
        "ys_no_mapping = {1: 'Yes', 0: 'No'}\n"
      ],
      "metadata": {
        "id": "bqgOmF44LMSh"
      },
      "execution_count": 302,
      "outputs": []
    },
    {
      "cell_type": "code",
      "source": [
        "# apply to data\n",
        "df_c['Month of absence'] = df_c['Month of absence'].apply(lambda x: month_mapping[x])\n",
        "df_c['Day of the week'] = df_c['Day of the week'].apply(lambda x: day_mapping[x])\n",
        "df_c['Seasons'] = df_c['Seasons'].apply(lambda x: season_mapping[x])\n",
        "df_c['Education'] = df_c['Education'].apply(lambda x: education_mapping[x])\n",
        "df_c['Social drinker'] = df_c['Social drinker'].apply(lambda x: ys_no_mapping[x])\n",
        "df_c['Social smoker'] = df_c['Social smoker'].apply(lambda x: ys_no_mapping[x])\n",
        "df_c['Disciplinary failure'] = df_c['Disciplinary failure'].apply(lambda x: ys_no_mapping[x])"
      ],
      "metadata": {
        "id": "rDZtjaDjPSiX"
      },
      "execution_count": 303,
      "outputs": []
    },
    {
      "cell_type": "code",
      "source": [
        "df_c.head()"
      ],
      "metadata": {
        "colab": {
          "base_uri": "https://localhost:8080/",
          "height": 438
        },
        "id": "WsproxFwQKzd",
        "outputId": "0bab8f14-2bb0-4a8a-d0c7-a9770273200f"
      },
      "execution_count": 304,
      "outputs": [
        {
          "output_type": "execute_result",
          "data": {
            "text/plain": [
              "   ID  Reason for absence Month of absence Day of the week Seasons  \\\n",
              "0  11                  26             July         Tuesday  Summer   \n",
              "1  36                   0             July         Tuesday  Summer   \n",
              "2   3                  23             July       Wednesday  Summer   \n",
              "3   7                   7             July        Thursday  Summer   \n",
              "4  11                  23             July        Thursday  Summer   \n",
              "\n",
              "   Transportation expense  Distance from Residence to Work  Service time  Age  \\\n",
              "0                     289                               36            13   33   \n",
              "1                     118                               13            18   50   \n",
              "2                     179                               51            18   38   \n",
              "3                     279                                5            14   39   \n",
              "4                     289                               36            13   33   \n",
              "\n",
              "   Work load Average/day   ...  Disciplinary failure    Education Son  \\\n",
              "0                 239.554  ...                    No  High School   2   \n",
              "1                 239.554  ...                   Yes  High School   1   \n",
              "2                 239.554  ...                    No  High School   0   \n",
              "3                 239.554  ...                    No  High School   2   \n",
              "4                 239.554  ...                    No  High School   2   \n",
              "\n",
              "   Social drinker Social smoker Pet  Weight  Height  Body mass index  \\\n",
              "0             Yes            No   1      90     172               30   \n",
              "1             Yes            No   0      98     178               31   \n",
              "2             Yes            No   0      89     170               31   \n",
              "3             Yes           Yes   0      68     168               24   \n",
              "4             Yes            No   1      90     172               30   \n",
              "\n",
              "   Absenteeism time in hours  \n",
              "0                          4  \n",
              "1                          0  \n",
              "2                          2  \n",
              "3                          4  \n",
              "4                          2  \n",
              "\n",
              "[5 rows x 21 columns]"
            ],
            "text/html": [
              "\n",
              "  <div id=\"df-2d1b3dc7-e1b8-4726-89a6-50c34cb13a1d\">\n",
              "    <div class=\"colab-df-container\">\n",
              "      <div>\n",
              "<style scoped>\n",
              "    .dataframe tbody tr th:only-of-type {\n",
              "        vertical-align: middle;\n",
              "    }\n",
              "\n",
              "    .dataframe tbody tr th {\n",
              "        vertical-align: top;\n",
              "    }\n",
              "\n",
              "    .dataframe thead th {\n",
              "        text-align: right;\n",
              "    }\n",
              "</style>\n",
              "<table border=\"1\" class=\"dataframe\">\n",
              "  <thead>\n",
              "    <tr style=\"text-align: right;\">\n",
              "      <th></th>\n",
              "      <th>ID</th>\n",
              "      <th>Reason for absence</th>\n",
              "      <th>Month of absence</th>\n",
              "      <th>Day of the week</th>\n",
              "      <th>Seasons</th>\n",
              "      <th>Transportation expense</th>\n",
              "      <th>Distance from Residence to Work</th>\n",
              "      <th>Service time</th>\n",
              "      <th>Age</th>\n",
              "      <th>Work load Average/day</th>\n",
              "      <th>...</th>\n",
              "      <th>Disciplinary failure</th>\n",
              "      <th>Education</th>\n",
              "      <th>Son</th>\n",
              "      <th>Social drinker</th>\n",
              "      <th>Social smoker</th>\n",
              "      <th>Pet</th>\n",
              "      <th>Weight</th>\n",
              "      <th>Height</th>\n",
              "      <th>Body mass index</th>\n",
              "      <th>Absenteeism time in hours</th>\n",
              "    </tr>\n",
              "  </thead>\n",
              "  <tbody>\n",
              "    <tr>\n",
              "      <th>0</th>\n",
              "      <td>11</td>\n",
              "      <td>26</td>\n",
              "      <td>July</td>\n",
              "      <td>Tuesday</td>\n",
              "      <td>Summer</td>\n",
              "      <td>289</td>\n",
              "      <td>36</td>\n",
              "      <td>13</td>\n",
              "      <td>33</td>\n",
              "      <td>239.554</td>\n",
              "      <td>...</td>\n",
              "      <td>No</td>\n",
              "      <td>High School</td>\n",
              "      <td>2</td>\n",
              "      <td>Yes</td>\n",
              "      <td>No</td>\n",
              "      <td>1</td>\n",
              "      <td>90</td>\n",
              "      <td>172</td>\n",
              "      <td>30</td>\n",
              "      <td>4</td>\n",
              "    </tr>\n",
              "    <tr>\n",
              "      <th>1</th>\n",
              "      <td>36</td>\n",
              "      <td>0</td>\n",
              "      <td>July</td>\n",
              "      <td>Tuesday</td>\n",
              "      <td>Summer</td>\n",
              "      <td>118</td>\n",
              "      <td>13</td>\n",
              "      <td>18</td>\n",
              "      <td>50</td>\n",
              "      <td>239.554</td>\n",
              "      <td>...</td>\n",
              "      <td>Yes</td>\n",
              "      <td>High School</td>\n",
              "      <td>1</td>\n",
              "      <td>Yes</td>\n",
              "      <td>No</td>\n",
              "      <td>0</td>\n",
              "      <td>98</td>\n",
              "      <td>178</td>\n",
              "      <td>31</td>\n",
              "      <td>0</td>\n",
              "    </tr>\n",
              "    <tr>\n",
              "      <th>2</th>\n",
              "      <td>3</td>\n",
              "      <td>23</td>\n",
              "      <td>July</td>\n",
              "      <td>Wednesday</td>\n",
              "      <td>Summer</td>\n",
              "      <td>179</td>\n",
              "      <td>51</td>\n",
              "      <td>18</td>\n",
              "      <td>38</td>\n",
              "      <td>239.554</td>\n",
              "      <td>...</td>\n",
              "      <td>No</td>\n",
              "      <td>High School</td>\n",
              "      <td>0</td>\n",
              "      <td>Yes</td>\n",
              "      <td>No</td>\n",
              "      <td>0</td>\n",
              "      <td>89</td>\n",
              "      <td>170</td>\n",
              "      <td>31</td>\n",
              "      <td>2</td>\n",
              "    </tr>\n",
              "    <tr>\n",
              "      <th>3</th>\n",
              "      <td>7</td>\n",
              "      <td>7</td>\n",
              "      <td>July</td>\n",
              "      <td>Thursday</td>\n",
              "      <td>Summer</td>\n",
              "      <td>279</td>\n",
              "      <td>5</td>\n",
              "      <td>14</td>\n",
              "      <td>39</td>\n",
              "      <td>239.554</td>\n",
              "      <td>...</td>\n",
              "      <td>No</td>\n",
              "      <td>High School</td>\n",
              "      <td>2</td>\n",
              "      <td>Yes</td>\n",
              "      <td>Yes</td>\n",
              "      <td>0</td>\n",
              "      <td>68</td>\n",
              "      <td>168</td>\n",
              "      <td>24</td>\n",
              "      <td>4</td>\n",
              "    </tr>\n",
              "    <tr>\n",
              "      <th>4</th>\n",
              "      <td>11</td>\n",
              "      <td>23</td>\n",
              "      <td>July</td>\n",
              "      <td>Thursday</td>\n",
              "      <td>Summer</td>\n",
              "      <td>289</td>\n",
              "      <td>36</td>\n",
              "      <td>13</td>\n",
              "      <td>33</td>\n",
              "      <td>239.554</td>\n",
              "      <td>...</td>\n",
              "      <td>No</td>\n",
              "      <td>High School</td>\n",
              "      <td>2</td>\n",
              "      <td>Yes</td>\n",
              "      <td>No</td>\n",
              "      <td>1</td>\n",
              "      <td>90</td>\n",
              "      <td>172</td>\n",
              "      <td>30</td>\n",
              "      <td>2</td>\n",
              "    </tr>\n",
              "  </tbody>\n",
              "</table>\n",
              "<p>5 rows × 21 columns</p>\n",
              "</div>\n",
              "      <button class=\"colab-df-convert\" onclick=\"convertToInteractive('df-2d1b3dc7-e1b8-4726-89a6-50c34cb13a1d')\"\n",
              "              title=\"Convert this dataframe to an interactive table.\"\n",
              "              style=\"display:none;\">\n",
              "        \n",
              "  <svg xmlns=\"http://www.w3.org/2000/svg\" height=\"24px\"viewBox=\"0 0 24 24\"\n",
              "       width=\"24px\">\n",
              "    <path d=\"M0 0h24v24H0V0z\" fill=\"none\"/>\n",
              "    <path d=\"M18.56 5.44l.94 2.06.94-2.06 2.06-.94-2.06-.94-.94-2.06-.94 2.06-2.06.94zm-11 1L8.5 8.5l.94-2.06 2.06-.94-2.06-.94L8.5 2.5l-.94 2.06-2.06.94zm10 10l.94 2.06.94-2.06 2.06-.94-2.06-.94-.94-2.06-.94 2.06-2.06.94z\"/><path d=\"M17.41 7.96l-1.37-1.37c-.4-.4-.92-.59-1.43-.59-.52 0-1.04.2-1.43.59L10.3 9.45l-7.72 7.72c-.78.78-.78 2.05 0 2.83L4 21.41c.39.39.9.59 1.41.59.51 0 1.02-.2 1.41-.59l7.78-7.78 2.81-2.81c.8-.78.8-2.07 0-2.86zM5.41 20L4 18.59l7.72-7.72 1.47 1.35L5.41 20z\"/>\n",
              "  </svg>\n",
              "      </button>\n",
              "      \n",
              "  <style>\n",
              "    .colab-df-container {\n",
              "      display:flex;\n",
              "      flex-wrap:wrap;\n",
              "      gap: 12px;\n",
              "    }\n",
              "\n",
              "    .colab-df-convert {\n",
              "      background-color: #E8F0FE;\n",
              "      border: none;\n",
              "      border-radius: 50%;\n",
              "      cursor: pointer;\n",
              "      display: none;\n",
              "      fill: #1967D2;\n",
              "      height: 32px;\n",
              "      padding: 0 0 0 0;\n",
              "      width: 32px;\n",
              "    }\n",
              "\n",
              "    .colab-df-convert:hover {\n",
              "      background-color: #E2EBFA;\n",
              "      box-shadow: 0px 1px 2px rgba(60, 64, 67, 0.3), 0px 1px 3px 1px rgba(60, 64, 67, 0.15);\n",
              "      fill: #174EA6;\n",
              "    }\n",
              "\n",
              "    [theme=dark] .colab-df-convert {\n",
              "      background-color: #3B4455;\n",
              "      fill: #D2E3FC;\n",
              "    }\n",
              "\n",
              "    [theme=dark] .colab-df-convert:hover {\n",
              "      background-color: #434B5C;\n",
              "      box-shadow: 0px 1px 3px 1px rgba(0, 0, 0, 0.15);\n",
              "      filter: drop-shadow(0px 1px 2px rgba(0, 0, 0, 0.3));\n",
              "      fill: #FFFFFF;\n",
              "    }\n",
              "  </style>\n",
              "\n",
              "      <script>\n",
              "        const buttonEl =\n",
              "          document.querySelector('#df-2d1b3dc7-e1b8-4726-89a6-50c34cb13a1d button.colab-df-convert');\n",
              "        buttonEl.style.display =\n",
              "          google.colab.kernel.accessAllowed ? 'block' : 'none';\n",
              "\n",
              "        async function convertToInteractive(key) {\n",
              "          const element = document.querySelector('#df-2d1b3dc7-e1b8-4726-89a6-50c34cb13a1d');\n",
              "          const dataTable =\n",
              "            await google.colab.kernel.invokeFunction('convertToInteractive',\n",
              "                                                     [key], {});\n",
              "          if (!dataTable) return;\n",
              "\n",
              "          const docLinkHtml = 'Like what you see? Visit the ' +\n",
              "            '<a target=\"_blank\" href=https://colab.research.google.com/notebooks/data_table.ipynb>data table notebook</a>'\n",
              "            + ' to learn more about interactive tables.';\n",
              "          element.innerHTML = '';\n",
              "          dataTable['output_type'] = 'display_data';\n",
              "          await google.colab.output.renderOutput(dataTable, element);\n",
              "          const docLink = document.createElement('div');\n",
              "          docLink.innerHTML = docLinkHtml;\n",
              "          element.appendChild(docLink);\n",
              "        }\n",
              "      </script>\n",
              "    </div>\n",
              "  </div>\n",
              "  "
            ]
          },
          "metadata": {},
          "execution_count": 304
        }
      ]
    },
    {
      "cell_type": "code",
      "source": [
        "df_c.head().T"
      ],
      "metadata": {
        "colab": {
          "base_uri": "https://localhost:8080/",
          "height": 708
        },
        "id": "WvtBqrVzQ74p",
        "outputId": "189a88b5-8454-4312-e291-55da3151e54a"
      },
      "execution_count": 305,
      "outputs": [
        {
          "output_type": "execute_result",
          "data": {
            "text/plain": [
              "                                           0            1            2  \\\n",
              "ID                                        11           36            3   \n",
              "Reason for absence                        26            0           23   \n",
              "Month of absence                        July         July         July   \n",
              "Day of the week                      Tuesday      Tuesday    Wednesday   \n",
              "Seasons                               Summer       Summer       Summer   \n",
              "Transportation expense                   289          118          179   \n",
              "Distance from Residence to Work           36           13           51   \n",
              "Service time                              13           18           18   \n",
              "Age                                       33           50           38   \n",
              "Work load Average/day                239.554      239.554      239.554   \n",
              "Hit target                                97           97           97   \n",
              "Disciplinary failure                      No          Yes           No   \n",
              "Education                        High School  High School  High School   \n",
              "Son                                        2            1            0   \n",
              "Social drinker                           Yes          Yes          Yes   \n",
              "Social smoker                             No           No           No   \n",
              "Pet                                        1            0            0   \n",
              "Weight                                    90           98           89   \n",
              "Height                                   172          178          170   \n",
              "Body mass index                           30           31           31   \n",
              "Absenteeism time in hours                  4            0            2   \n",
              "\n",
              "                                           3            4  \n",
              "ID                                         7           11  \n",
              "Reason for absence                         7           23  \n",
              "Month of absence                        July         July  \n",
              "Day of the week                     Thursday     Thursday  \n",
              "Seasons                               Summer       Summer  \n",
              "Transportation expense                   279          289  \n",
              "Distance from Residence to Work            5           36  \n",
              "Service time                              14           13  \n",
              "Age                                       39           33  \n",
              "Work load Average/day                239.554      239.554  \n",
              "Hit target                                97           97  \n",
              "Disciplinary failure                      No           No  \n",
              "Education                        High School  High School  \n",
              "Son                                        2            2  \n",
              "Social drinker                           Yes          Yes  \n",
              "Social smoker                            Yes           No  \n",
              "Pet                                        0            1  \n",
              "Weight                                    68           90  \n",
              "Height                                   168          172  \n",
              "Body mass index                           24           30  \n",
              "Absenteeism time in hours                  4            2  "
            ],
            "text/html": [
              "\n",
              "  <div id=\"df-7a157e77-31d4-441f-9a65-2ef7bd726752\">\n",
              "    <div class=\"colab-df-container\">\n",
              "      <div>\n",
              "<style scoped>\n",
              "    .dataframe tbody tr th:only-of-type {\n",
              "        vertical-align: middle;\n",
              "    }\n",
              "\n",
              "    .dataframe tbody tr th {\n",
              "        vertical-align: top;\n",
              "    }\n",
              "\n",
              "    .dataframe thead th {\n",
              "        text-align: right;\n",
              "    }\n",
              "</style>\n",
              "<table border=\"1\" class=\"dataframe\">\n",
              "  <thead>\n",
              "    <tr style=\"text-align: right;\">\n",
              "      <th></th>\n",
              "      <th>0</th>\n",
              "      <th>1</th>\n",
              "      <th>2</th>\n",
              "      <th>3</th>\n",
              "      <th>4</th>\n",
              "    </tr>\n",
              "  </thead>\n",
              "  <tbody>\n",
              "    <tr>\n",
              "      <th>ID</th>\n",
              "      <td>11</td>\n",
              "      <td>36</td>\n",
              "      <td>3</td>\n",
              "      <td>7</td>\n",
              "      <td>11</td>\n",
              "    </tr>\n",
              "    <tr>\n",
              "      <th>Reason for absence</th>\n",
              "      <td>26</td>\n",
              "      <td>0</td>\n",
              "      <td>23</td>\n",
              "      <td>7</td>\n",
              "      <td>23</td>\n",
              "    </tr>\n",
              "    <tr>\n",
              "      <th>Month of absence</th>\n",
              "      <td>July</td>\n",
              "      <td>July</td>\n",
              "      <td>July</td>\n",
              "      <td>July</td>\n",
              "      <td>July</td>\n",
              "    </tr>\n",
              "    <tr>\n",
              "      <th>Day of the week</th>\n",
              "      <td>Tuesday</td>\n",
              "      <td>Tuesday</td>\n",
              "      <td>Wednesday</td>\n",
              "      <td>Thursday</td>\n",
              "      <td>Thursday</td>\n",
              "    </tr>\n",
              "    <tr>\n",
              "      <th>Seasons</th>\n",
              "      <td>Summer</td>\n",
              "      <td>Summer</td>\n",
              "      <td>Summer</td>\n",
              "      <td>Summer</td>\n",
              "      <td>Summer</td>\n",
              "    </tr>\n",
              "    <tr>\n",
              "      <th>Transportation expense</th>\n",
              "      <td>289</td>\n",
              "      <td>118</td>\n",
              "      <td>179</td>\n",
              "      <td>279</td>\n",
              "      <td>289</td>\n",
              "    </tr>\n",
              "    <tr>\n",
              "      <th>Distance from Residence to Work</th>\n",
              "      <td>36</td>\n",
              "      <td>13</td>\n",
              "      <td>51</td>\n",
              "      <td>5</td>\n",
              "      <td>36</td>\n",
              "    </tr>\n",
              "    <tr>\n",
              "      <th>Service time</th>\n",
              "      <td>13</td>\n",
              "      <td>18</td>\n",
              "      <td>18</td>\n",
              "      <td>14</td>\n",
              "      <td>13</td>\n",
              "    </tr>\n",
              "    <tr>\n",
              "      <th>Age</th>\n",
              "      <td>33</td>\n",
              "      <td>50</td>\n",
              "      <td>38</td>\n",
              "      <td>39</td>\n",
              "      <td>33</td>\n",
              "    </tr>\n",
              "    <tr>\n",
              "      <th>Work load Average/day</th>\n",
              "      <td>239.554</td>\n",
              "      <td>239.554</td>\n",
              "      <td>239.554</td>\n",
              "      <td>239.554</td>\n",
              "      <td>239.554</td>\n",
              "    </tr>\n",
              "    <tr>\n",
              "      <th>Hit target</th>\n",
              "      <td>97</td>\n",
              "      <td>97</td>\n",
              "      <td>97</td>\n",
              "      <td>97</td>\n",
              "      <td>97</td>\n",
              "    </tr>\n",
              "    <tr>\n",
              "      <th>Disciplinary failure</th>\n",
              "      <td>No</td>\n",
              "      <td>Yes</td>\n",
              "      <td>No</td>\n",
              "      <td>No</td>\n",
              "      <td>No</td>\n",
              "    </tr>\n",
              "    <tr>\n",
              "      <th>Education</th>\n",
              "      <td>High School</td>\n",
              "      <td>High School</td>\n",
              "      <td>High School</td>\n",
              "      <td>High School</td>\n",
              "      <td>High School</td>\n",
              "    </tr>\n",
              "    <tr>\n",
              "      <th>Son</th>\n",
              "      <td>2</td>\n",
              "      <td>1</td>\n",
              "      <td>0</td>\n",
              "      <td>2</td>\n",
              "      <td>2</td>\n",
              "    </tr>\n",
              "    <tr>\n",
              "      <th>Social drinker</th>\n",
              "      <td>Yes</td>\n",
              "      <td>Yes</td>\n",
              "      <td>Yes</td>\n",
              "      <td>Yes</td>\n",
              "      <td>Yes</td>\n",
              "    </tr>\n",
              "    <tr>\n",
              "      <th>Social smoker</th>\n",
              "      <td>No</td>\n",
              "      <td>No</td>\n",
              "      <td>No</td>\n",
              "      <td>Yes</td>\n",
              "      <td>No</td>\n",
              "    </tr>\n",
              "    <tr>\n",
              "      <th>Pet</th>\n",
              "      <td>1</td>\n",
              "      <td>0</td>\n",
              "      <td>0</td>\n",
              "      <td>0</td>\n",
              "      <td>1</td>\n",
              "    </tr>\n",
              "    <tr>\n",
              "      <th>Weight</th>\n",
              "      <td>90</td>\n",
              "      <td>98</td>\n",
              "      <td>89</td>\n",
              "      <td>68</td>\n",
              "      <td>90</td>\n",
              "    </tr>\n",
              "    <tr>\n",
              "      <th>Height</th>\n",
              "      <td>172</td>\n",
              "      <td>178</td>\n",
              "      <td>170</td>\n",
              "      <td>168</td>\n",
              "      <td>172</td>\n",
              "    </tr>\n",
              "    <tr>\n",
              "      <th>Body mass index</th>\n",
              "      <td>30</td>\n",
              "      <td>31</td>\n",
              "      <td>31</td>\n",
              "      <td>24</td>\n",
              "      <td>30</td>\n",
              "    </tr>\n",
              "    <tr>\n",
              "      <th>Absenteeism time in hours</th>\n",
              "      <td>4</td>\n",
              "      <td>0</td>\n",
              "      <td>2</td>\n",
              "      <td>4</td>\n",
              "      <td>2</td>\n",
              "    </tr>\n",
              "  </tbody>\n",
              "</table>\n",
              "</div>\n",
              "      <button class=\"colab-df-convert\" onclick=\"convertToInteractive('df-7a157e77-31d4-441f-9a65-2ef7bd726752')\"\n",
              "              title=\"Convert this dataframe to an interactive table.\"\n",
              "              style=\"display:none;\">\n",
              "        \n",
              "  <svg xmlns=\"http://www.w3.org/2000/svg\" height=\"24px\"viewBox=\"0 0 24 24\"\n",
              "       width=\"24px\">\n",
              "    <path d=\"M0 0h24v24H0V0z\" fill=\"none\"/>\n",
              "    <path d=\"M18.56 5.44l.94 2.06.94-2.06 2.06-.94-2.06-.94-.94-2.06-.94 2.06-2.06.94zm-11 1L8.5 8.5l.94-2.06 2.06-.94-2.06-.94L8.5 2.5l-.94 2.06-2.06.94zm10 10l.94 2.06.94-2.06 2.06-.94-2.06-.94-.94-2.06-.94 2.06-2.06.94z\"/><path d=\"M17.41 7.96l-1.37-1.37c-.4-.4-.92-.59-1.43-.59-.52 0-1.04.2-1.43.59L10.3 9.45l-7.72 7.72c-.78.78-.78 2.05 0 2.83L4 21.41c.39.39.9.59 1.41.59.51 0 1.02-.2 1.41-.59l7.78-7.78 2.81-2.81c.8-.78.8-2.07 0-2.86zM5.41 20L4 18.59l7.72-7.72 1.47 1.35L5.41 20z\"/>\n",
              "  </svg>\n",
              "      </button>\n",
              "      \n",
              "  <style>\n",
              "    .colab-df-container {\n",
              "      display:flex;\n",
              "      flex-wrap:wrap;\n",
              "      gap: 12px;\n",
              "    }\n",
              "\n",
              "    .colab-df-convert {\n",
              "      background-color: #E8F0FE;\n",
              "      border: none;\n",
              "      border-radius: 50%;\n",
              "      cursor: pointer;\n",
              "      display: none;\n",
              "      fill: #1967D2;\n",
              "      height: 32px;\n",
              "      padding: 0 0 0 0;\n",
              "      width: 32px;\n",
              "    }\n",
              "\n",
              "    .colab-df-convert:hover {\n",
              "      background-color: #E2EBFA;\n",
              "      box-shadow: 0px 1px 2px rgba(60, 64, 67, 0.3), 0px 1px 3px 1px rgba(60, 64, 67, 0.15);\n",
              "      fill: #174EA6;\n",
              "    }\n",
              "\n",
              "    [theme=dark] .colab-df-convert {\n",
              "      background-color: #3B4455;\n",
              "      fill: #D2E3FC;\n",
              "    }\n",
              "\n",
              "    [theme=dark] .colab-df-convert:hover {\n",
              "      background-color: #434B5C;\n",
              "      box-shadow: 0px 1px 3px 1px rgba(0, 0, 0, 0.15);\n",
              "      filter: drop-shadow(0px 1px 2px rgba(0, 0, 0, 0.3));\n",
              "      fill: #FFFFFF;\n",
              "    }\n",
              "  </style>\n",
              "\n",
              "      <script>\n",
              "        const buttonEl =\n",
              "          document.querySelector('#df-7a157e77-31d4-441f-9a65-2ef7bd726752 button.colab-df-convert');\n",
              "        buttonEl.style.display =\n",
              "          google.colab.kernel.accessAllowed ? 'block' : 'none';\n",
              "\n",
              "        async function convertToInteractive(key) {\n",
              "          const element = document.querySelector('#df-7a157e77-31d4-441f-9a65-2ef7bd726752');\n",
              "          const dataTable =\n",
              "            await google.colab.kernel.invokeFunction('convertToInteractive',\n",
              "                                                     [key], {});\n",
              "          if (!dataTable) return;\n",
              "\n",
              "          const docLinkHtml = 'Like what you see? Visit the ' +\n",
              "            '<a target=\"_blank\" href=https://colab.research.google.com/notebooks/data_table.ipynb>data table notebook</a>'\n",
              "            + ' to learn more about interactive tables.';\n",
              "          element.innerHTML = '';\n",
              "          dataTable['output_type'] = 'display_data';\n",
              "          await google.colab.output.renderOutput(dataTable, element);\n",
              "          const docLink = document.createElement('div');\n",
              "          docLink.innerHTML = docLinkHtml;\n",
              "          element.appendChild(docLink);\n",
              "        }\n",
              "      </script>\n",
              "    </div>\n",
              "  </div>\n",
              "  "
            ]
          },
          "metadata": {},
          "execution_count": 305
        }
      ]
    },
    {
      "cell_type": "markdown",
      "source": [
        "**for Reason of absence feature: we have from 0 to 28 reasons, with 1: 21 represernt ICD encodings for disease, 22: 28 are some medical-related reasons but not a disease and 0 is _unkown_ reason.**"
      ],
      "metadata": {
        "id": "xi6YXjBZYGCU"
      }
    },
    {
      "cell_type": "code",
      "source": [
        "# make new column to distinguish between medical-related reasons and unkown reasons.\n",
        "def in_icd(x):\n",
        "  return 'Yes' if x >=1 and x <= 21 else 'No'\n",
        "df_c['disease'] = df_c['Reason for absence'].apply(in_icd)\n",
        "#check\n",
        "df_c.head().T"
      ],
      "metadata": {
        "colab": {
          "base_uri": "https://localhost:8080/",
          "height": 739
        },
        "id": "jtZeuzMeRUBs",
        "outputId": "693f310b-6276-4522-a552-4a50591a40fc"
      },
      "execution_count": 306,
      "outputs": [
        {
          "output_type": "execute_result",
          "data": {
            "text/plain": [
              "                                           0            1            2  \\\n",
              "ID                                        11           36            3   \n",
              "Reason for absence                        26            0           23   \n",
              "Month of absence                        July         July         July   \n",
              "Day of the week                      Tuesday      Tuesday    Wednesday   \n",
              "Seasons                               Summer       Summer       Summer   \n",
              "Transportation expense                   289          118          179   \n",
              "Distance from Residence to Work           36           13           51   \n",
              "Service time                              13           18           18   \n",
              "Age                                       33           50           38   \n",
              "Work load Average/day                239.554      239.554      239.554   \n",
              "Hit target                                97           97           97   \n",
              "Disciplinary failure                      No          Yes           No   \n",
              "Education                        High School  High School  High School   \n",
              "Son                                        2            1            0   \n",
              "Social drinker                           Yes          Yes          Yes   \n",
              "Social smoker                             No           No           No   \n",
              "Pet                                        1            0            0   \n",
              "Weight                                    90           98           89   \n",
              "Height                                   172          178          170   \n",
              "Body mass index                           30           31           31   \n",
              "Absenteeism time in hours                  4            0            2   \n",
              "disease                                   No           No           No   \n",
              "\n",
              "                                           3            4  \n",
              "ID                                         7           11  \n",
              "Reason for absence                         7           23  \n",
              "Month of absence                        July         July  \n",
              "Day of the week                     Thursday     Thursday  \n",
              "Seasons                               Summer       Summer  \n",
              "Transportation expense                   279          289  \n",
              "Distance from Residence to Work            5           36  \n",
              "Service time                              14           13  \n",
              "Age                                       39           33  \n",
              "Work load Average/day                239.554      239.554  \n",
              "Hit target                                97           97  \n",
              "Disciplinary failure                      No           No  \n",
              "Education                        High School  High School  \n",
              "Son                                        2            2  \n",
              "Social drinker                           Yes          Yes  \n",
              "Social smoker                            Yes           No  \n",
              "Pet                                        0            1  \n",
              "Weight                                    68           90  \n",
              "Height                                   168          172  \n",
              "Body mass index                           24           30  \n",
              "Absenteeism time in hours                  4            2  \n",
              "disease                                  Yes           No  "
            ],
            "text/html": [
              "\n",
              "  <div id=\"df-87ae455f-d65c-428a-8f37-e5ef554a2f97\">\n",
              "    <div class=\"colab-df-container\">\n",
              "      <div>\n",
              "<style scoped>\n",
              "    .dataframe tbody tr th:only-of-type {\n",
              "        vertical-align: middle;\n",
              "    }\n",
              "\n",
              "    .dataframe tbody tr th {\n",
              "        vertical-align: top;\n",
              "    }\n",
              "\n",
              "    .dataframe thead th {\n",
              "        text-align: right;\n",
              "    }\n",
              "</style>\n",
              "<table border=\"1\" class=\"dataframe\">\n",
              "  <thead>\n",
              "    <tr style=\"text-align: right;\">\n",
              "      <th></th>\n",
              "      <th>0</th>\n",
              "      <th>1</th>\n",
              "      <th>2</th>\n",
              "      <th>3</th>\n",
              "      <th>4</th>\n",
              "    </tr>\n",
              "  </thead>\n",
              "  <tbody>\n",
              "    <tr>\n",
              "      <th>ID</th>\n",
              "      <td>11</td>\n",
              "      <td>36</td>\n",
              "      <td>3</td>\n",
              "      <td>7</td>\n",
              "      <td>11</td>\n",
              "    </tr>\n",
              "    <tr>\n",
              "      <th>Reason for absence</th>\n",
              "      <td>26</td>\n",
              "      <td>0</td>\n",
              "      <td>23</td>\n",
              "      <td>7</td>\n",
              "      <td>23</td>\n",
              "    </tr>\n",
              "    <tr>\n",
              "      <th>Month of absence</th>\n",
              "      <td>July</td>\n",
              "      <td>July</td>\n",
              "      <td>July</td>\n",
              "      <td>July</td>\n",
              "      <td>July</td>\n",
              "    </tr>\n",
              "    <tr>\n",
              "      <th>Day of the week</th>\n",
              "      <td>Tuesday</td>\n",
              "      <td>Tuesday</td>\n",
              "      <td>Wednesday</td>\n",
              "      <td>Thursday</td>\n",
              "      <td>Thursday</td>\n",
              "    </tr>\n",
              "    <tr>\n",
              "      <th>Seasons</th>\n",
              "      <td>Summer</td>\n",
              "      <td>Summer</td>\n",
              "      <td>Summer</td>\n",
              "      <td>Summer</td>\n",
              "      <td>Summer</td>\n",
              "    </tr>\n",
              "    <tr>\n",
              "      <th>Transportation expense</th>\n",
              "      <td>289</td>\n",
              "      <td>118</td>\n",
              "      <td>179</td>\n",
              "      <td>279</td>\n",
              "      <td>289</td>\n",
              "    </tr>\n",
              "    <tr>\n",
              "      <th>Distance from Residence to Work</th>\n",
              "      <td>36</td>\n",
              "      <td>13</td>\n",
              "      <td>51</td>\n",
              "      <td>5</td>\n",
              "      <td>36</td>\n",
              "    </tr>\n",
              "    <tr>\n",
              "      <th>Service time</th>\n",
              "      <td>13</td>\n",
              "      <td>18</td>\n",
              "      <td>18</td>\n",
              "      <td>14</td>\n",
              "      <td>13</td>\n",
              "    </tr>\n",
              "    <tr>\n",
              "      <th>Age</th>\n",
              "      <td>33</td>\n",
              "      <td>50</td>\n",
              "      <td>38</td>\n",
              "      <td>39</td>\n",
              "      <td>33</td>\n",
              "    </tr>\n",
              "    <tr>\n",
              "      <th>Work load Average/day</th>\n",
              "      <td>239.554</td>\n",
              "      <td>239.554</td>\n",
              "      <td>239.554</td>\n",
              "      <td>239.554</td>\n",
              "      <td>239.554</td>\n",
              "    </tr>\n",
              "    <tr>\n",
              "      <th>Hit target</th>\n",
              "      <td>97</td>\n",
              "      <td>97</td>\n",
              "      <td>97</td>\n",
              "      <td>97</td>\n",
              "      <td>97</td>\n",
              "    </tr>\n",
              "    <tr>\n",
              "      <th>Disciplinary failure</th>\n",
              "      <td>No</td>\n",
              "      <td>Yes</td>\n",
              "      <td>No</td>\n",
              "      <td>No</td>\n",
              "      <td>No</td>\n",
              "    </tr>\n",
              "    <tr>\n",
              "      <th>Education</th>\n",
              "      <td>High School</td>\n",
              "      <td>High School</td>\n",
              "      <td>High School</td>\n",
              "      <td>High School</td>\n",
              "      <td>High School</td>\n",
              "    </tr>\n",
              "    <tr>\n",
              "      <th>Son</th>\n",
              "      <td>2</td>\n",
              "      <td>1</td>\n",
              "      <td>0</td>\n",
              "      <td>2</td>\n",
              "      <td>2</td>\n",
              "    </tr>\n",
              "    <tr>\n",
              "      <th>Social drinker</th>\n",
              "      <td>Yes</td>\n",
              "      <td>Yes</td>\n",
              "      <td>Yes</td>\n",
              "      <td>Yes</td>\n",
              "      <td>Yes</td>\n",
              "    </tr>\n",
              "    <tr>\n",
              "      <th>Social smoker</th>\n",
              "      <td>No</td>\n",
              "      <td>No</td>\n",
              "      <td>No</td>\n",
              "      <td>Yes</td>\n",
              "      <td>No</td>\n",
              "    </tr>\n",
              "    <tr>\n",
              "      <th>Pet</th>\n",
              "      <td>1</td>\n",
              "      <td>0</td>\n",
              "      <td>0</td>\n",
              "      <td>0</td>\n",
              "      <td>1</td>\n",
              "    </tr>\n",
              "    <tr>\n",
              "      <th>Weight</th>\n",
              "      <td>90</td>\n",
              "      <td>98</td>\n",
              "      <td>89</td>\n",
              "      <td>68</td>\n",
              "      <td>90</td>\n",
              "    </tr>\n",
              "    <tr>\n",
              "      <th>Height</th>\n",
              "      <td>172</td>\n",
              "      <td>178</td>\n",
              "      <td>170</td>\n",
              "      <td>168</td>\n",
              "      <td>172</td>\n",
              "    </tr>\n",
              "    <tr>\n",
              "      <th>Body mass index</th>\n",
              "      <td>30</td>\n",
              "      <td>31</td>\n",
              "      <td>31</td>\n",
              "      <td>24</td>\n",
              "      <td>30</td>\n",
              "    </tr>\n",
              "    <tr>\n",
              "      <th>Absenteeism time in hours</th>\n",
              "      <td>4</td>\n",
              "      <td>0</td>\n",
              "      <td>2</td>\n",
              "      <td>4</td>\n",
              "      <td>2</td>\n",
              "    </tr>\n",
              "    <tr>\n",
              "      <th>disease</th>\n",
              "      <td>No</td>\n",
              "      <td>No</td>\n",
              "      <td>No</td>\n",
              "      <td>Yes</td>\n",
              "      <td>No</td>\n",
              "    </tr>\n",
              "  </tbody>\n",
              "</table>\n",
              "</div>\n",
              "      <button class=\"colab-df-convert\" onclick=\"convertToInteractive('df-87ae455f-d65c-428a-8f37-e5ef554a2f97')\"\n",
              "              title=\"Convert this dataframe to an interactive table.\"\n",
              "              style=\"display:none;\">\n",
              "        \n",
              "  <svg xmlns=\"http://www.w3.org/2000/svg\" height=\"24px\"viewBox=\"0 0 24 24\"\n",
              "       width=\"24px\">\n",
              "    <path d=\"M0 0h24v24H0V0z\" fill=\"none\"/>\n",
              "    <path d=\"M18.56 5.44l.94 2.06.94-2.06 2.06-.94-2.06-.94-.94-2.06-.94 2.06-2.06.94zm-11 1L8.5 8.5l.94-2.06 2.06-.94-2.06-.94L8.5 2.5l-.94 2.06-2.06.94zm10 10l.94 2.06.94-2.06 2.06-.94-2.06-.94-.94-2.06-.94 2.06-2.06.94z\"/><path d=\"M17.41 7.96l-1.37-1.37c-.4-.4-.92-.59-1.43-.59-.52 0-1.04.2-1.43.59L10.3 9.45l-7.72 7.72c-.78.78-.78 2.05 0 2.83L4 21.41c.39.39.9.59 1.41.59.51 0 1.02-.2 1.41-.59l7.78-7.78 2.81-2.81c.8-.78.8-2.07 0-2.86zM5.41 20L4 18.59l7.72-7.72 1.47 1.35L5.41 20z\"/>\n",
              "  </svg>\n",
              "      </button>\n",
              "      \n",
              "  <style>\n",
              "    .colab-df-container {\n",
              "      display:flex;\n",
              "      flex-wrap:wrap;\n",
              "      gap: 12px;\n",
              "    }\n",
              "\n",
              "    .colab-df-convert {\n",
              "      background-color: #E8F0FE;\n",
              "      border: none;\n",
              "      border-radius: 50%;\n",
              "      cursor: pointer;\n",
              "      display: none;\n",
              "      fill: #1967D2;\n",
              "      height: 32px;\n",
              "      padding: 0 0 0 0;\n",
              "      width: 32px;\n",
              "    }\n",
              "\n",
              "    .colab-df-convert:hover {\n",
              "      background-color: #E2EBFA;\n",
              "      box-shadow: 0px 1px 2px rgba(60, 64, 67, 0.3), 0px 1px 3px 1px rgba(60, 64, 67, 0.15);\n",
              "      fill: #174EA6;\n",
              "    }\n",
              "\n",
              "    [theme=dark] .colab-df-convert {\n",
              "      background-color: #3B4455;\n",
              "      fill: #D2E3FC;\n",
              "    }\n",
              "\n",
              "    [theme=dark] .colab-df-convert:hover {\n",
              "      background-color: #434B5C;\n",
              "      box-shadow: 0px 1px 3px 1px rgba(0, 0, 0, 0.15);\n",
              "      filter: drop-shadow(0px 1px 2px rgba(0, 0, 0, 0.3));\n",
              "      fill: #FFFFFF;\n",
              "    }\n",
              "  </style>\n",
              "\n",
              "      <script>\n",
              "        const buttonEl =\n",
              "          document.querySelector('#df-87ae455f-d65c-428a-8f37-e5ef554a2f97 button.colab-df-convert');\n",
              "        buttonEl.style.display =\n",
              "          google.colab.kernel.accessAllowed ? 'block' : 'none';\n",
              "\n",
              "        async function convertToInteractive(key) {\n",
              "          const element = document.querySelector('#df-87ae455f-d65c-428a-8f37-e5ef554a2f97');\n",
              "          const dataTable =\n",
              "            await google.colab.kernel.invokeFunction('convertToInteractive',\n",
              "                                                     [key], {});\n",
              "          if (!dataTable) return;\n",
              "\n",
              "          const docLinkHtml = 'Like what you see? Visit the ' +\n",
              "            '<a target=\"_blank\" href=https://colab.research.google.com/notebooks/data_table.ipynb>data table notebook</a>'\n",
              "            + ' to learn more about interactive tables.';\n",
              "          element.innerHTML = '';\n",
              "          dataTable['output_type'] = 'display_data';\n",
              "          await google.colab.output.renderOutput(dataTable, element);\n",
              "          const docLink = document.createElement('div');\n",
              "          docLink.innerHTML = docLinkHtml;\n",
              "          element.appendChild(docLink);\n",
              "        }\n",
              "      </script>\n",
              "    </div>\n",
              "  </div>\n",
              "  "
            ]
          },
          "metadata": {},
          "execution_count": 306
        }
      ]
    },
    {
      "cell_type": "code",
      "source": [
        "plt.figure(figsize=(8, 6))\n",
        "sns.countplot(df_c.disease)\n",
        "plt.title(\"Absence due to disease\");"
      ],
      "metadata": {
        "colab": {
          "base_uri": "https://localhost:8080/",
          "height": 404
        },
        "id": "ZjlnaCxud3t4",
        "outputId": "97f96764-5eb9-4930-a705-59a3b4402bb2"
      },
      "execution_count": 307,
      "outputs": [
        {
          "output_type": "display_data",
          "data": {
            "text/plain": [
              "<Figure size 576x432 with 1 Axes>"
            ],
            "image/png": "[encoded data removed]"
          },
          "metadata": {
            "needs_background": "light"
          }
        }
      ]
    },
    {
      "cell_type": "code",
      "source": [
        "df_c.disease.value_counts(normalize = True)"
      ],
      "metadata": {
        "colab": {
          "base_uri": "https://localhost:8080/"
        },
        "id": "-y-j-bmIeOAf",
        "outputId": "e42fe9af-51cc-41b0-89e4-0644b142e575"
      },
      "execution_count": 308,
      "outputs": [
        {
          "output_type": "execute_result",
          "data": {
            "text/plain": [
              "No     0.645946\n",
              "Yes    0.354054\n",
              "Name: disease, dtype: float64"
            ]
          },
          "metadata": {},
          "execution_count": 308
        }
      ]
    },
    {
      "cell_type": "code",
      "source": [
        "plt.figure(figsize= (15, 8))\n",
        "sns.countplot(df_c['Reason for absence'], hue = df_c.disease)\n",
        "plt.title(\"Absence reasons distribution\");"
      ],
      "metadata": {
        "colab": {
          "base_uri": "https://localhost:8080/",
          "height": 513
        },
        "id": "SkZ1Rjo3ety_",
        "outputId": "bf89fae2-e133-43dc-c9c1-5a06aafde22a"
      },
      "execution_count": 309,
      "outputs": [
        {
          "output_type": "display_data",
          "data": {
            "text/plain": [
              "<Figure size 1080x576 with 1 Axes>"
            ],
            "image/png": "[encoded data removed]"
          },
          "metadata": {
            "needs_background": "light"
          }
        }
      ]
    },
    {
      "cell_type": "code",
      "source": [
        "sns.countplot(df_c['Social drinker']);"
      ],
      "metadata": {
        "colab": {
          "base_uri": "https://localhost:8080/",
          "height": 279
        },
        "id": "7H2loRy8etwB",
        "outputId": "dfac7f5f-df96-4670-e36c-646a9359f460"
      },
      "execution_count": 310,
      "outputs": [
        {
          "output_type": "display_data",
          "data": {
            "text/plain": [
              "<Figure size 432x288 with 1 Axes>"
            ],
            "image/png": "[encoded data removed]"
          },
          "metadata": {
            "needs_background": "light"
          }
        }
      ]
    },
    {
      "cell_type": "code",
      "source": [
        "df_c['Social drinker'].value_counts(normalize = True)"
      ],
      "metadata": {
        "colab": {
          "base_uri": "https://localhost:8080/"
        },
        "id": "N-diwrBDettP",
        "outputId": "b963f130-772e-434a-c1be-1bd9d75dd08b"
      },
      "execution_count": 311,
      "outputs": [
        {
          "output_type": "execute_result",
          "data": {
            "text/plain": [
              "Yes    0.567568\n",
              "No     0.432432\n",
              "Name: Social drinker, dtype: float64"
            ]
          },
          "metadata": {},
          "execution_count": 311
        }
      ]
    },
    {
      "cell_type": "code",
      "source": [
        "sns.countplot(df_c['Social smoker']);"
      ],
      "metadata": {
        "colab": {
          "base_uri": "https://localhost:8080/",
          "height": 279
        },
        "id": "jCBBqnGHetqC",
        "outputId": "6deb0a50-89b3-4ab5-923c-4ac9db05e4c6"
      },
      "execution_count": 312,
      "outputs": [
        {
          "output_type": "display_data",
          "data": {
            "text/plain": [
              "<Figure size 432x288 with 1 Axes>"
            ],
            "image/png": "[encoded data removed]"
          },
          "metadata": {
            "needs_background": "light"
          }
        }
      ]
    },
    {
      "cell_type": "code",
      "source": [
        "df_c['Social smoker'].value_counts(normalize = True)"
      ],
      "metadata": {
        "colab": {
          "base_uri": "https://localhost:8080/"
        },
        "id": "Hk_kVaBoetnC",
        "outputId": "13547cd6-b427-417c-bf14-5e558f11ac0f"
      },
      "execution_count": 313,
      "outputs": [
        {
          "output_type": "execute_result",
          "data": {
            "text/plain": [
              "No     0.927027\n",
              "Yes    0.072973\n",
              "Name: Social smoker, dtype: float64"
            ]
          },
          "metadata": {},
          "execution_count": 313
        }
      ]
    },
    {
      "cell_type": "code",
      "source": [
        "plt.figure(figsize= (15, 8))\n",
        "sns.countplot('Reason for absence', data = df_c, hue = 'Social drinker')\n",
        "plt.title(\"Absence reasons distribution\");"
      ],
      "metadata": {
        "colab": {
          "base_uri": "https://localhost:8080/",
          "height": 513
        },
        "id": "Dv9h_bSbXFK-",
        "outputId": "7c269e8b-2054-4cd2-93ca-c33c3937607b"
      },
      "execution_count": 314,
      "outputs": [
        {
          "output_type": "display_data",
          "data": {
            "text/plain": [
              "<Figure size 1080x576 with 1 Axes>"
            ],
            "image/png": "[encoded data removed]"
          },
          "metadata": {
            "needs_background": "light"
          }
        }
      ]
    },
    {
      "cell_type": "code",
      "source": [
        "plt.figure(figsize= (15, 8))\n",
        "sns.countplot('Reason for absence', data = df_c, hue = 'Social smoker')\n",
        "plt.title(\"Absence reasons distribution\");"
      ],
      "metadata": {
        "colab": {
          "base_uri": "https://localhost:8080/",
          "height": 513
        },
        "id": "-gOzTxPrXFH8",
        "outputId": "4e2687c8-c3c9-47f1-e233-f42f1cafdba4"
      },
      "execution_count": 315,
      "outputs": [
        {
          "output_type": "display_data",
          "data": {
            "text/plain": [
              "<Figure size 1080x576 with 1 Axes>"
            ],
            "image/png": "[encoded data removed]"
          },
          "metadata": {
            "needs_background": "light"
          }
        }
      ]
    },
    {
      "cell_type": "markdown",
      "source": [
        "## Conditional Probability:"
      ],
      "metadata": {
        "id": "m7pS6TgMbx1A"
      }
    },
    {
      "cell_type": "code",
      "source": [
        "drinker_prob = df_c['Social drinker'].value_counts(normalize = True)['Yes']\n",
        "drinker_prob"
      ],
      "metadata": {
        "colab": {
          "base_uri": "https://localhost:8080/"
        },
        "id": "OhgYpTPyXFFJ",
        "outputId": "aab08b30-88cd-4ca1-b909-fa8ebb6f8c8c"
      },
      "execution_count": 316,
      "outputs": [
        {
          "output_type": "execute_result",
          "data": {
            "text/plain": [
              "0.5675675675675675"
            ]
          },
          "metadata": {},
          "execution_count": 316
        }
      ]
    },
    {
      "cell_type": "code",
      "source": [
        "smoker_prob = df_c['Social smoker'].value_counts(normalize = True)['Yes']\n",
        "smoker_prob"
      ],
      "metadata": {
        "colab": {
          "base_uri": "https://localhost:8080/"
        },
        "id": "HIAZ57fOXFB_",
        "outputId": "a90accdd-51f2-4bc6-8701-e7e38bf4f403"
      },
      "execution_count": 317,
      "outputs": [
        {
          "output_type": "execute_result",
          "data": {
            "text/plain": [
              "0.07297297297297298"
            ]
          },
          "metadata": {},
          "execution_count": 317
        }
      ]
    },
    {
      "cell_type": "code",
      "source": [
        "#create mask for social drinkers/smokers \n",
        "drinker_mask = df_c[\"Social drinker\"] == \"Yes\"\n",
        "smoker_mask = df_c[\"Social smoker\"] == \"Yes\""
      ],
      "metadata": {
        "id": "E_oHQ-c6XE_L"
      },
      "execution_count": 318,
      "outputs": []
    },
    {
      "cell_type": "code",
      "source": [
        "total_entries = df_c.shape[0]\n",
        "absence_drinker_prob = df_c[\"Reason for absence\"][drinker_mask].value_counts()/total_entries\n",
        "absence_smoker_prob = df_c[\"Reason for absence\"][smoker_mask].value_counts()/total_entries"
      ],
      "metadata": {
        "id": "GCXqWoWBk_sq"
      },
      "execution_count": 319,
      "outputs": []
    },
    {
      "cell_type": "code",
      "source": [
        "# compute conditional probabilities\n",
        "cond_prob = pd.DataFrame(index=range(0,29))\n",
        "cond_prob[\"P(Absence | social drinker)\"] = absence_drinker_prob\\\n",
        "                                           /drinker_prob\n",
        "cond_prob[\"P(Absence | social smoker)\"] = absence_smoker_prob\\\n",
        "                                          /smoker_prob"
      ],
      "metadata": {
        "id": "WwDG0jmJlENI"
      },
      "execution_count": 320,
      "outputs": []
    },
    {
      "cell_type": "code",
      "source": [
        "# plot probabilities\n",
        "plt.figure()\n",
        "ax = cond_prob.plot.bar(figsize=(15,8))\n",
        "ax.set_ylabel(\"Conditional probability\");"
      ],
      "metadata": {
        "colab": {
          "base_uri": "https://localhost:8080/",
          "height": 503
        },
        "id": "svJfApPSlEKG",
        "outputId": "15324a68-a0da-465a-c16a-c1eba3766044"
      },
      "execution_count": 321,
      "outputs": [
        {
          "output_type": "display_data",
          "data": {
            "text/plain": [
              "<Figure size 432x288 with 0 Axes>"
            ]
          },
          "metadata": {}
        },
        {
          "output_type": "display_data",
          "data": {
            "text/plain": [
              "<Figure size 1080x576 with 1 Axes>"
            ],
            "image/png": "[encoded data removed]"
          },
          "metadata": {
            "needs_background": "light"
          }
        }
      ]
    },
    {
      "cell_type": "markdown",
      "source": [
        "**compute probability of being smoker/drinker given absence reason**"
      ],
      "metadata": {
        "id": "8ompZ2RHxExa"
      }
    },
    {
      "cell_type": "code",
      "source": [
        "absence_prob = df_c[\"Reason for absence\"].value_counts(normalize=True)\n",
        "absence_prob"
      ],
      "metadata": {
        "colab": {
          "base_uri": "https://localhost:8080/"
        },
        "id": "BKbNK6YjlEHJ",
        "outputId": "95f3f549-52e6-4aff-f575-db9d6c1f90ba"
      },
      "execution_count": 322,
      "outputs": [
        {
          "output_type": "execute_result",
          "data": {
            "text/plain": [
              "23    0.201351\n",
              "28    0.151351\n",
              "27    0.093243\n",
              "13    0.074324\n",
              "0     0.058108\n",
              "19    0.054054\n",
              "22    0.051351\n",
              "26    0.044595\n",
              "25    0.041892\n",
              "11    0.035135\n",
              "10    0.033784\n",
              "18    0.028378\n",
              "14    0.025676\n",
              "1     0.021622\n",
              "7     0.020270\n",
              "6     0.010811\n",
              "12    0.010811\n",
              "21    0.008108\n",
              "8     0.008108\n",
              "9     0.005405\n",
              "5     0.004054\n",
              "16    0.004054\n",
              "24    0.004054\n",
              "15    0.002703\n",
              "4     0.002703\n",
              "3     0.001351\n",
              "2     0.001351\n",
              "17    0.001351\n",
              "Name: Reason for absence, dtype: float64"
            ]
          },
          "metadata": {},
          "execution_count": 322
        }
      ]
    },
    {
      "cell_type": "code",
      "source": [
        "# compute conditional probabilities for drinker/smoker\n",
        "cond_prob_drinker_smoker = pd.DataFrame(index=range(0,29))\n",
        "cond_prob_drinker_smoker[\"P(social drinker | Absence)\"] = cond_prob[\"P(Absence | social drinker)\"]*drinker_prob/absence_prob\n",
        "cond_prob_drinker_smoker[\"P(social smoker | Absence)\"] = cond_prob[\"P(Absence | social smoker)\"]*smoker_prob/absence_prob\n"
      ],
      "metadata": {
        "id": "XC3lIvBzxTMl"
      },
      "execution_count": 323,
      "outputs": []
    },
    {
      "cell_type": "code",
      "source": [
        "plt.figure()\n",
        "ax = cond_prob_drinker_smoker.plot.bar(figsize=(15,8))\n",
        "ax.set_ylabel(\"Conditional probability\");"
      ],
      "metadata": {
        "colab": {
          "base_uri": "https://localhost:8080/",
          "height": 503
        },
        "id": "5Q7sCEf-xTJT",
        "outputId": "6b509824-416f-432c-e23f-e76b03c1a535"
      },
      "execution_count": 324,
      "outputs": [
        {
          "output_type": "display_data",
          "data": {
            "text/plain": [
              "<Figure size 432x288 with 0 Axes>"
            ]
          },
          "metadata": {}
        },
        {
          "output_type": "display_data",
          "data": {
            "text/plain": [
              "<Figure size 1080x576 with 1 Axes>"
            ],
            "image/png": "[encoded data removed]"
          },
          "metadata": {
            "needs_background": "light"
          }
        }
      ]
    },
    {
      "cell_type": "markdown",
      "source": [
        "## Relation between being drinker/smoker and absence hours"
      ],
      "metadata": {
        "id": "ZNRspsaaz9nW"
      }
    },
    {
      "cell_type": "code",
      "source": [
        "# create violin plots of the absenteeism time in hours\n",
        "plt.figure(figsize=(8,6))\n",
        "sns.violinplot(x=\"Social drinker\", y=\"Absenteeism time in hours\", \n",
        "               data=df_c, order=[\"No\", \"Yes\"]);"
      ],
      "metadata": {
        "colab": {
          "base_uri": "https://localhost:8080/",
          "height": 388
        },
        "id": "IhpvvRODxTGO",
        "outputId": "1b35e746-047d-445d-cebb-c9cc1b0bd8b6"
      },
      "execution_count": 325,
      "outputs": [
        {
          "output_type": "display_data",
          "data": {
            "text/plain": [
              "<Figure size 576x432 with 1 Axes>"
            ],
            "image/png": "[encoded data removed]"
          },
          "metadata": {
            "needs_background": "light"
          }
        }
      ]
    },
    {
      "cell_type": "code",
      "source": [
        "# create violin plots of the absenteeism time in hours\n",
        "plt.figure(figsize=(8,6))\n",
        "sns.violinplot(x=\"Social smoker\", y=\"Absenteeism time in hours\", \n",
        "               data=df_c, order=[\"No\", \"Yes\"]);"
      ],
      "metadata": {
        "colab": {
          "base_uri": "https://localhost:8080/",
          "height": 388
        },
        "id": "pZ40xXDL0F0P",
        "outputId": "bd64ab37-9ce3-4e13-fa02-b22e5f178237"
      },
      "execution_count": 326,
      "outputs": [
        {
          "output_type": "display_data",
          "data": {
            "text/plain": [
              "<Figure size 576x432 with 1 Axes>"
            ],
            "image/png": "[encoded data removed]"
          },
          "metadata": {
            "needs_background": "light"
          }
        }
      ]
    },
    {
      "cell_type": "code",
      "source": [
        "hours_col = \"Absenteeism time in hours\"\n",
        "# test mean absenteeism time for drinkers\n",
        "drinkers_mask = df_c[\"Social drinker\"] == \"Yes\"\n",
        "hours_drinkers = df_c.loc[drinker_mask, hours_col]\n",
        "hours_non_drinkers = df_c.loc[~drinker_mask, hours_col]\n",
        "drinkers_test = ttest_ind(hours_drinkers, hours_non_drinkers)\n",
        "print(f\"Statistic value: {drinkers_test[0]}, p-value: {drinkers_test[1]}\")"
      ],
      "metadata": {
        "colab": {
          "base_uri": "https://localhost:8080/"
        },
        "id": "YZf2woVY3ru3",
        "outputId": "f828ad4c-ff57-4732-b17b-ce1b27bf3fe5"
      },
      "execution_count": 327,
      "outputs": [
        {
          "output_type": "stream",
          "name": "stdout",
          "text": [
            "Statistic value: 1.7713833295243993, p-value: 0.07690961828294651\n"
          ]
        }
      ]
    },
    {
      "cell_type": "code",
      "source": [
        "# test mean absenteeism time for smokers\n",
        "smokers_mask = df_c[\"Social smoker\"] == \"Yes\"\n",
        "hours_smokers = df_c.loc[smokers_mask, hours_col]\n",
        "hours_non_smokers = df_c.loc[~smokers_mask, hours_col]\n",
        "smokers_test = ttest_ind(hours_smokers, hours_non_smokers)\n",
        "print(f\"Statistic value: {smokers_test[0]}, p-value: {smokers_test[1]}\")"
      ],
      "metadata": {
        "colab": {
          "base_uri": "https://localhost:8080/"
        },
        "id": "O8DxTnDT4M4N",
        "outputId": "e1be2e81-7290-4206-af6c-89ca00a7c97b"
      },
      "execution_count": 328,
      "outputs": [
        {
          "output_type": "stream",
          "name": "stdout",
          "text": [
            "Statistic value: -0.24277795417700243, p-value: 0.8082448720154971\n"
          ]
        }
      ]
    },
    {
      "cell_type": "code",
      "source": [
        "# test the distribution:\n",
        "ks_drinkers = ks_2samp(hours_drinkers, hours_non_drinkers)\n",
        "ks_smokers = ks_2samp(hours_smokers, hours_non_smokers)\n",
        "print(f\"Drinkers comparison: statistics={ks_drinkers[0]:.3f}, pvalue={ks_drinkers[1]:.3f}\")\n",
        "print(f\"Smokers comparison:  statistics={ks_smokers[0]:.3f}, pvalue={ks_smokers[1]:.3f}\")"
      ],
      "metadata": {
        "colab": {
          "base_uri": "https://localhost:8080/"
        },
        "id": "l1KsXDWN8Lc_",
        "outputId": "f9c25643-3590-4d14-c4d2-8bdb3e68693a"
      },
      "execution_count": 329,
      "outputs": [
        {
          "output_type": "stream",
          "name": "stdout",
          "text": [
            "Drinkers comparison: statistics=0.135, pvalue=0.002\n",
            "Smokers comparison:  statistics=0.104, pvalue=0.607\n"
          ]
        }
      ]
    },
    {
      "cell_type": "markdown",
      "source": [
        "## Analysing BMI:"
      ],
      "metadata": {
        "id": "xUsBzjkI95Co"
      }
    },
    {
      "cell_type": "code",
      "source": [
        "def get_bmi_category(bmi):\n",
        "    if bmi < 18.5:\n",
        "        category = \"underweight\"\n",
        "    elif bmi >= 18.5 and bmi < 25:\n",
        "        category = \"healthy weight\"\n",
        "    elif bmi >= 25 and bmi < 30:\n",
        "        category = \"overweight\"\n",
        "    else:\n",
        "        category = \"obese\"\n",
        "    return category\n",
        "# compute BMI category\n",
        "df_c[\"BMI category\"] = df_c[\"Body mass index\"].apply(get_bmi_category)"
      ],
      "metadata": {
        "id": "wiPLarkp_a5G"
      },
      "execution_count": 330,
      "outputs": []
    },
    {
      "cell_type": "code",
      "source": [
        "plt.figure(figsize=(10, 6))\n",
        "sns.countplot(data=df_c, x='BMI category', \\\n",
        "              order=[\"underweight\", \"healthy weight\", \\\n",
        "                     \"overweight\", \"obese\"], \\\n",
        "              palette=\"Set2\");"
      ],
      "metadata": {
        "colab": {
          "base_uri": "https://localhost:8080/",
          "height": 388
        },
        "id": "NWQwpims_a2F",
        "outputId": "2eb943db-33ae-48c2-bb11-71f5f3e0b923"
      },
      "execution_count": 331,
      "outputs": [
        {
          "output_type": "display_data",
          "data": {
            "text/plain": [
              "<Figure size 720x432 with 1 Axes>"
            ],
            "image/png": "[encoded data removed]"
          },
          "metadata": {
            "needs_background": "light"
          }
        }
      ]
    },
    {
      "cell_type": "code",
      "source": [
        "# plot BMI categories vs Reason for absence\n",
        "plt.figure(figsize=(16, 10))\n",
        "ax = sns.countplot(data=df_c, \n",
        "                   x=\"Reason for absence\", hue=\"BMI category\",\n",
        "                   hue_order=[\"underweight\", \"healthy weight\",\n",
        "                              \"overweight\", \"obese\"], \n",
        "                   palette=\"Set2\")\n",
        "ax.set_xlabel(\"Number of employees\");"
      ],
      "metadata": {
        "id": "oinVDj6yB7IE"
      },
      "execution_count": null,
      "outputs": []
    },
    {
      "cell_type": "markdown",
      "source": [
        "## Age Analysis:"
      ],
      "metadata": {
        "id": "K74erdqzIu5j"
      }
    },
    {
      "cell_type": "code",
      "source": [
        "#correlation between Age and Absence hours\n",
        "\n",
        "pearson_test = pearsonr(df_c['Age'], df_c['Absenteeism time in hours'])\n",
        "pearson_test"
      ],
      "metadata": {
        "id": "8GHIUFFjEDDK"
      },
      "execution_count": null,
      "outputs": []
    },
    {
      "cell_type": "code",
      "source": [
        "plt.figure(figsize=(10, 6))\n",
        "ax = sns.regplot(x=\"Age\", y=\"Absenteeism time in hours\", \\\n",
        "                 data=df_c, scatter_kws={\"alpha\":0.1})\n",
        "ax.set_title(f\"Correlation={pearson_test[0]:.03f} | p-value={pearson_test[1]:.03f}\");"
      ],
      "metadata": {
        "id": "c_9SX5vkKV1_"
      },
      "execution_count": null,
      "outputs": []
    },
    {
      "cell_type": "code",
      "source": [
        "# Impact of Age on reason for absence\n",
        "plt.figure(figsize=(8,6))\n",
        "sns.violinplot(x=\"disease\", y=\"Age\", data=df_c);"
      ],
      "metadata": {
        "id": "GwCGtj3yMv57"
      },
      "execution_count": null,
      "outputs": []
    },
    {
      "cell_type": "code",
      "source": [
        "disease_mask = df_c.disease == 'Yes'\n",
        "disease_ages = df_c.Age[disease_mask]\n",
        "no_disease_ages = df_c.Age[~disease_mask]\n"
      ],
      "metadata": {
        "id": "ErXW5tEKPjv5"
      },
      "execution_count": null,
      "outputs": []
    },
    {
      "cell_type": "code",
      "source": [
        "test_res = ttest_ind(disease_ages, no_disease_ages)\n",
        "print(f\"Test for equality of means: statistic={test_res[0]:0.3f}, pvalue={test_res[1]:0.3f}\")"
      ],
      "metadata": {
        "id": "n-gGNzCXP4t-"
      },
      "execution_count": null,
      "outputs": []
    },
    {
      "cell_type": "code",
      "source": [
        "# test equality of distributions via Kolmogorov-Smirnov test\n",
        "ks_res = ks_2samp(disease_ages, no_disease_ages)\n",
        "print(f\"KS test for equality of distributions: statistic={ks_res[0]:0.3f}, pvalue={ks_res[1]:0.3f}\")"
      ],
      "metadata": {
        "id": "hZnMj0EXQUon"
      },
      "execution_count": null,
      "outputs": []
    },
    {
      "cell_type": "code",
      "source": [
        "# violin plot of reason for absence vs age\n",
        "plt.figure(figsize=(20,8))\n",
        "sns.violinplot(x=\"Reason for absence\", y=\"Age\", \n",
        "               data=df_c)"
      ],
      "metadata": {
        "id": "xNW0IZGiQ-O_"
      },
      "execution_count": null,
      "outputs": []
    },
    {
      "cell_type": "markdown",
      "source": [
        "## Education Analysis:"
      ],
      "metadata": {
        "id": "wMufWA-7RfM6"
      }
    },
    {
      "cell_type": "code",
      "source": [
        "df_c['Education'].value_counts(normalize = True)"
      ],
      "metadata": {
        "id": "_puFpgA_RjSX"
      },
      "execution_count": null,
      "outputs": []
    },
    {
      "cell_type": "code",
      "source": [
        "# distribution of absence hours, based on education level\n",
        "plt.figure(figsize=(8,6))\n",
        "sns.violinplot(x=\"Education\", y=\"Absenteeism time in hours\",\n",
        "               data=df_c\n",
        "               );"
      ],
      "metadata": {
        "id": "VwQL2IQ8RjPf"
      },
      "execution_count": null,
      "outputs": []
    },
    {
      "cell_type": "code",
      "source": [
        "# compute mean and standard deviation of absence hours\n",
        "education_types = ['High School', 'Post-Graduate', 'Graduate', 'Master_PHD']\n",
        "for educ_type in education_types:\n",
        "    mask = df_c[\"Education\"] == educ_type\n",
        "    hours = df_c[\"Absenteeism time in hours\"][mask]\n",
        "    mean = hours.mean()\n",
        "    stddev = hours.std()\n",
        "    print(f\"Education type: {educ_type:12s} | Mean : {mean:.03f} | Stddev: {stddev:.03f}\")"
      ],
      "metadata": {
        "id": "EhvAq33sRjMA"
      },
      "execution_count": null,
      "outputs": []
    },
    {
      "cell_type": "code",
      "source": [
        "# plot reason for absence, based on education level\n",
        "plt.figure(figsize=(16, 10))\n",
        "sns.countplot(data=df_c, x=\"Reason for absence\",\n",
        "              hue=\"Education\");"
      ],
      "metadata": {
        "id": "BKbGLSedb-J7"
      },
      "execution_count": null,
      "outputs": []
    },
    {
      "cell_type": "markdown",
      "source": [
        "## Distance from Residence to Work Analysis:"
      ],
      "metadata": {
        "id": "jd2fpl6xqWAM"
      }
    },
    {
      "cell_type": "code",
      "source": [
        "sns.jointplot(x=\"Distance from Residence to Work\", \n",
        "              y=\"Absenteeism time in hours\", \n",
        "              data=df_c, kind=\"reg\");"
      ],
      "metadata": {
        "id": "YO5HiFFCb-G7"
      },
      "execution_count": null,
      "outputs": []
    },
    {
      "cell_type": "code",
      "source": [
        "# apply transformation to Absenteeism time in hours\n",
        "hours = yeojohnson(df_c[\"Absenteeism time in hours\"].apply(float))\n",
        "distances = df_c[\"Distance from Residence to Work\"]"
      ],
      "metadata": {
        "id": "jp2OkdMMqZh3"
      },
      "execution_count": null,
      "outputs": []
    },
    {
      "cell_type": "code",
      "source": [
        "plt.figure(figsize=(10, 6))\n",
        "ax = sns.jointplot(x=distances, y=hours[0], kind=\"reg\")\n",
        "ax.set_axis_labels(\"Distance from Residence to Work\",\n",
        "                   \"Transformed absenteeism time in hours\");"
      ],
      "metadata": {
        "id": "G5dMuOWysvFY"
      },
      "execution_count": null,
      "outputs": []
    },
    {
      "cell_type": "markdown",
      "source": [
        "## Transportation expense Analysis:"
      ],
      "metadata": {
        "id": "Fga8RwkopXOv"
      }
    },
    {
      "cell_type": "code",
      "source": [
        "sns.jointplot(x=\"Transportation expense\", \n",
        "              y=\"Absenteeism time in hours\", \n",
        "              data=df_c, kind=\"reg\");"
      ],
      "metadata": {
        "id": "pdYrPSEpqNdn"
      },
      "execution_count": null,
      "outputs": []
    },
    {
      "cell_type": "code",
      "source": [
        "expenses = df_c[\"Transportation expense\"]\n",
        "\n",
        "plt.figure(figsize=(10, 6))\n",
        "ax = sns.jointplot(x=expenses, y=hours[0], kind=\"reg\")\n",
        "ax.set_axis_labels(\"Transportation expense\", \n",
        "                   \"Transformed absenteeism time in hours\");"
      ],
      "metadata": {
        "id": "vXb9imdDs27q"
      },
      "execution_count": null,
      "outputs": []
    },
    {
      "cell_type": "code",
      "source": [
        "expenses_corr = pearsonr(hours[0], expenses)\n",
        "expenses_corr"
      ],
      "metadata": {
        "id": "NtWimAVmtbFm"
      },
      "execution_count": null,
      "outputs": []
    },
    {
      "cell_type": "markdown",
      "source": [
        "## Temporal Factors Analysis:"
      ],
      "metadata": {
        "id": "AuBS50m5v_6Y"
      }
    },
    {
      "cell_type": "code",
      "source": [
        "# count entries per day of the week and month\n",
        "plt.figure(figsize=(12, 5))\n",
        "ax = sns.countplot(data=df_c, \n",
        "                   x='Day of the week', \n",
        "                   order=[\"Monday\", \"Tuesday\", \n",
        "                          \"Wednesday\", \"Thursday\", \"Friday\"])\n",
        "ax.set_title(\"Number of absences per day of the week\")"
      ],
      "metadata": {
        "id": "geajgc9Rv3fV"
      },
      "execution_count": null,
      "outputs": []
    },
    {
      "cell_type": "code",
      "source": [
        "plt.figure(figsize=(12, 5))\n",
        "ax = sns.countplot(data=df_c, \n",
        "                   x='Month of absence', \\\n",
        "                   order=[\"January\", \"February\", \"March\", \n",
        "                          \"April\", \"May\", \"June\", \"July\", \n",
        "                          \"August\", \"September\", \"October\", \n",
        "                          \"November\", \"December\", \"Unknown\"])\n",
        "ax.set_title(\"Number of absences per month\");"
      ],
      "metadata": {
        "id": "j2N8fCGtwcv8"
      },
      "execution_count": null,
      "outputs": []
    },
    {
      "cell_type": "code",
      "source": [
        "# analyze average distribution of absence hours \n",
        "plt.figure(figsize=(12,5))\n",
        "sns.violinplot(x=\"Day of the week\", \n",
        "               y=\"Absenteeism time in hours\",\n",
        "               data=df_c, \n",
        "               order=[\"Monday\", \"Tuesday\", \n",
        "                      \"Wednesday\", \"Thursday\", \"Friday\"]);"
      ],
      "metadata": {
        "id": "MGkB5aJ0zR3V"
      },
      "execution_count": null,
      "outputs": []
    },
    {
      "cell_type": "code",
      "source": [
        "plt.figure(figsize=(12,5))\n",
        "sns.violinplot(x=\"Month of absence\", \n",
        "               y=\"Absenteeism time in hours\",\n",
        "               data=df_c, \n",
        "               order=[\"January\", \"February\", \n",
        "                      \"March\", \"April\", \"May\", \"June\", \"July\",\n",
        "                      \"August\", \"September\", \"October\", \n",
        "                      \"November\", \"December\", \"Unknown\"]);"
      ],
      "metadata": {
        "id": "sS7DiQZszhLQ"
      },
      "execution_count": null,
      "outputs": []
    },
    {
      "cell_type": "code",
      "source": [
        "dows = [\"Monday\", \"Tuesday\", \"Wednesday\", \n",
        "        \"Thursday\", \"Friday\"]\n",
        "for dow in dows:\n",
        "    mask = df_c[\"Day of the week\"] == dow\n",
        "    hours = df_c[\"Absenteeism time in hours\"][mask]\n",
        "    mean = hours.mean()\n",
        "    stddev = hours.std()\n",
        "    print(f\"Day of the week: {dow:10s} | Mean : {mean:.03f} | Stddev: {stddev:.03f}\")"
      ],
      "metadata": {
        "id": "YBvfa5Pq1jPi"
      },
      "execution_count": null,
      "outputs": []
    },
    {
      "cell_type": "code",
      "source": [
        "months = [\"January\", \"February\", \"March\", \"April\", \"May\", \n",
        "          \"June\", \"July\", \"August\", \"September\", \"October\", \n",
        "          \"November\", \"December\"]\n",
        "for month in months:\n",
        "    mask = df_c[\"Month of absence\"] == month\n",
        "    hours = df_c[\"Absenteeism time in hours\"][mask]\n",
        "    mean = hours.mean()\n",
        "    stddev = hours.std()\n",
        "    print(f\"Month: {month:10s} | Mean : {mean:8.03f} | Stddev: {stddev:8.03f}\")"
      ],
      "metadata": {
        "id": "XmY43xxX5dHY"
      },
      "execution_count": null,
      "outputs": []
    },
    {
      "cell_type": "code",
      "source": [
        "# perform statistical test for avg duration diference\n",
        "thursday_mask = df_c[\"Day of the week\"] == \"Thursday\"\n",
        "july_mask = df_c[\"Month of absence\"] == \"July\"\n",
        "thursday_data = df_c[\"Absenteeism time in hours\"][thursday_mask]\n",
        "no_thursday_data = df_c[\"Absenteeism time in hours\"][~thursday_mask]\n",
        "july_data = df_c[\"Absenteeism time in hours\"][july_mask]\n",
        "no_july_data = df_c[\"Absenteeism time in hours\"][~july_mask]\n",
        "thursday_res = ttest_ind(thursday_data, no_thursday_data)\n",
        "july_res = ttest_ind(july_data, no_july_data)\n",
        "print(f\"Thursday test result: statistic={thursday_res[0]:.3f}, pvalue={thursday_res[1]:.3f}\")\n",
        "print(f\"July test result: statistic={july_res[0]:.3f}, pvalue={july_res[1]:.3f}\")"
      ],
      "metadata": {
        "id": "vDvpRMWl55pX"
      },
      "execution_count": null,
      "outputs": []
    },
    {
      "cell_type": "markdown",
      "source": [
        "<a id='conc'></a>\n",
        "# Conclusion:\n",
        "\n",
        "\n",
        "*   About 35% of absence reasons are because of having a disease.\n",
        "*   For Non Disease: Most of reasons are having a medical consultation then dental consultation then physiotherapy.\n",
        "*   For Disease: _Diseases of the musculoskeletal system and connective tissue_ and  _Injury, poisoning and certain other consequences of external causes_ are the top two reasons for absence.\n",
        "*   For Drinkers: We see a significant difference for medical consultation as a reason for absence.\n",
        "*   For Smokers: we have only 7% of them on data, makes it hard to notice association between being smokers and absence reasons.\n",
        "*   From conditional probability: we see the highest reason for absence for drinkers is dental consultation followed by medical consultation.\n",
        "*   From conditional probability: we see that smokers mostly absent for unkown reasons and some laboratory examinations.\n",
        "*   Average Absenteeism hours have no significant difference between smokers/drinkers and non smokers/drinkers.\n",
        "*   The distribution of absenteeism hours for drinkers differs from of non drinkers.\n",
        "*   More than half of absenteeism times (about 60 % ) is for over weighted and obese employees.\n",
        "*   There is no significant difference between the distributions between disease related reason and non disease related reasons on different ages == That means Age has no impact on employees' absenteeism.\n",
        "*   Employees with higher education level tend to have shorter absences. \n",
        "*   We have slight positive correlation between expenses and absence hours.\n",
        "*   Average duration of absences is shorter in thursday compared with other days.\n",
        "*   Absences during july have the longest average duration among other months.\n",
        "\n",
        "\n",
        "\n",
        "\n",
        "\n",
        "\n",
        "\n",
        "\n",
        "\n",
        "\n",
        "\n",
        "\n",
        "\n"
      ],
      "metadata": {
        "id": "inPNK8v4ee43"
      }
    },
    {
      "cell_type": "code",
      "source": [
        ""
      ],
      "metadata": {
        "id": "XIX2ftqoBJgK"
      },
      "execution_count": null,
      "outputs": []
    }
  ]
}